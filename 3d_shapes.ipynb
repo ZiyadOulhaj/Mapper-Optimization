{
 "cells": [
  {
   "cell_type": "code",
   "execution_count": 7,
   "id": "b19169d9-8511-4932-8a9f-1d09f1b728a9",
   "metadata": {},
   "outputs": [],
   "source": [
    "import matplotlib.pyplot as plt\n",
    "import numpy as np\n",
    "import tensorflow as tf\n",
    "import meshplot as mp\n",
    "import gudhi                 as gd\n",
    "from tqdm                    import tqdm\n",
    "from sklearn.cluster import KMeans\n",
    "from mapper import MapperComplex\n",
    "from scipy.stats import bernoulli\n",
    "import itertools\n",
    "from joblib import Parallel, delayed\n",
    "from pyvis.network import Network\n",
    "from SoftMapper import smooth_scheme, compute_mapper, filter_st\n",
    "import time\n",
    "from sklearn.decomposition import PCA"
   ]
  },
  {
   "cell_type": "markdown",
   "id": "32780b88-997b-4af9-b801-e9b26398a7b0",
   "metadata": {
    "tags": []
   },
   "source": [
    "## Utils for importing shapes"
   ]
  },
  {
   "cell_type": "code",
   "execution_count": 2,
   "id": "2b6679ab-daa7-4fbe-bba0-73acec2a0835",
   "metadata": {},
   "outputs": [],
   "source": [
    "def off2numpy(shape_name):\n",
    "    with open(shape_name, 'r') as S:\n",
    "        S.readline()\n",
    "        num_vertices, num_faces, _ = [int(n) for n in S.readline().split(' ')]\n",
    "        info = S.readlines()\n",
    "    vertices = np.array([[float(coord) for coord in l.split(' ')] for l in info[0:num_vertices]])\n",
    "    faces    = np.array([[int(coord) for coord in l.split(' ')[1:]] for l in info[num_vertices:]])\n",
    "    return vertices, faces"
   ]
  },
  {
   "cell_type": "markdown",
   "id": "044f1453-01f2-4ad5-bbb6-9101a2085540",
   "metadata": {
    "jp-MarkdownHeadingCollapsed": true,
    "tags": []
   },
   "source": [
    "## Human"
   ]
  },
  {
   "cell_type": "code",
   "execution_count": 94,
   "id": "fb3985b9-5d54-4679-97a1-064aa21287cf",
   "metadata": {},
   "outputs": [
    {
     "data": {
      "application/vnd.jupyter.widget-view+json": {
       "model_id": "160368b9495f4b6ebf62038a78d4bdf7",
       "version_major": 2,
       "version_minor": 0
      },
      "text/plain": [
       "Renderer(camera=PerspectiveCamera(children=(DirectionalLight(color='white', intensity=0.6, position=(-0.035629…"
      ]
     },
     "metadata": {},
     "output_type": "display_data"
    }
   ],
   "source": [
    "path=r\"/Users/ziyad/Desktop/LabeledDB_new/\"\n",
    "vertices, faces = off2numpy(path + 'Human/10.off')\n",
    "mp.plot(vertices,faces);"
   ]
  },
  {
   "cell_type": "code",
   "execution_count": 97,
   "id": "38a46378-5105-4f03-8db4-9b01a223f795",
   "metadata": {},
   "outputs": [
    {
     "data": {
      "text/plain": [
       "array([[ 4.36321542e-04, -9.99961742e-01,  8.73634851e-03],\n",
       "       [-3.17885971e-02,  8.71806460e-03,  9.99456593e-01]])"
      ]
     },
     "execution_count": 97,
     "metadata": {},
     "output_type": "execute_result"
    }
   ],
   "source": [
    "from sklearn.decomposition import PCA\n",
    "pca = PCA(n_components=2)\n",
    "pca.fit(vertices)\n",
    "pca.components_"
   ]
  },
  {
   "cell_type": "code",
   "execution_count": 86,
   "id": "c891dff9-314c-4540-a23b-736453924c3d",
   "metadata": {},
   "outputs": [],
   "source": [
    "n_clusters=3\n",
    "resolutions=np.array([25])\n",
    "gain=np.array([0.3])\n",
    "\n",
    "sigma=0.01\n",
    "\n",
    "kmeans=KMeans(n_clusters=n_clusters, n_init=10)\n",
    "\n",
    "\n",
    "params=tf.Variable(initial_value=np.array([[1],[1],[1]]).astype(np.float32)/np.sqrt(3),trainable=True)\n",
    "X=tf.Variable(initial_value=vertices.astype(np.float32), trainable=False)\n",
    "\n",
    "lr = tf.keras.optimizers.schedules.InverseTimeDecay(initial_learning_rate=5e-2, decay_steps=10, decay_rate=.01)\n",
    "optimizer = tf.keras.optimizers.legacy.SGD(learning_rate=lr)"
   ]
  },
  {
   "cell_type": "code",
   "execution_count": 87,
   "id": "4bef7951-b0e1-4f5b-8e2f-9346a00fc61c",
   "metadata": {},
   "outputs": [
    {
     "name": "stdout",
     "output_type": "stream",
     "text": [
      "Local cdn resources have problems on chrome/safari when used in jupyter-notebook. \n"
     ]
    },
    {
     "data": {
      "text/html": [
       "\n",
       "        <iframe\n",
       "            width=\"500px\"\n",
       "            height=\"500px\"\n",
       "            src=\"human_initial.html\"\n",
       "            frameborder=\"0\"\n",
       "            allowfullscreen\n",
       "            \n",
       "        ></iframe>\n",
       "        "
      ],
      "text/plain": [
       "<IPython.lib.display.IFrame at 0x319d318b0>"
      ]
     },
     "execution_count": 87,
     "metadata": {},
     "output_type": "execute_result"
    }
   ],
   "source": [
    "f=tf.tensordot(X,params,axes=1)\n",
    "mapper=MapperComplex(colors=f.numpy(),filters=f.numpy(),resolutions=resolutions, gains=gain, clustering=kmeans)\n",
    "mapper.fit(vertices)\n",
    "nt=mapper.get_pyvis()\n",
    "nt.show('human_initial.html')"
   ]
  },
  {
   "cell_type": "code",
   "execution_count": 88,
   "id": "9e63d691-7dad-44ba-93f8-064cbe40ccd6",
   "metadata": {},
   "outputs": [
    {
     "name": "stderr",
     "output_type": "stream",
     "text": [
      "100%|█████████████████████████████████████████| 201/201 [03:33<00:00,  1.06s/it]\n"
     ]
    }
   ],
   "source": [
    "losses = []\n",
    "K=10\n",
    "with Parallel(n_jobs=-1) as parallel:\n",
    "    for epoch in tqdm(range(200+1)):\n",
    "\n",
    "        f=tf.tensordot(X,params,axes=1)\n",
    "        fn=(f-tf.math.reduce_min(f))/(tf.math.reduce_max(f)-tf.math.reduce_min(f))\n",
    "        scheme=smooth_scheme(fn.numpy(),resolutions,gain,sigma)\n",
    "\n",
    "        upscheme=np.repeat(scheme,K,axis=0)\n",
    "\n",
    "        assignments=bernoulli.rvs(upscheme)\n",
    "\n",
    "        st,clusters=compute_mapper(X.numpy(),kmeans,assignments)\n",
    "        \n",
    "        with tf.GradientTape() as tape:\n",
    "            f=tf.tensordot(X,params,axes=1)\n",
    "            f_values=tf.repeat(tf.expand_dims(f,axis=0),clusters.shape[0],axis=0)\n",
    "\n",
    "            f_values=tf.repeat(f_values,clusters.shape[2],axis=2)\n",
    "\n",
    "            filtration=tf.math.reduce_sum(f_values*clusters,axis=1)/np.sum(clusters,axis=1)\n",
    "            #l=[(_LowerStarSimplexTree(st[k],filtration[k],[0],11,False)[0][0]).reshape(-1,2) for k in range(n)]\n",
    "            l=parallel(delayed(filter_st)(list(st[k].get_skeleton(1)),filtration.numpy()[k]) \n",
    "                for k in range(K))\n",
    "            loss=0\n",
    "            \n",
    "            #dgm=tf.concat([tf.gather(filtration[k],l[k]) for k in range(K)],axis=0)\n",
    "            for k in range(K):\n",
    "                dgm=tf.gather(filtration[k],l[k]) \n",
    "                loss=loss-tf.math.reduce_sum(tf.math.abs((dgm[:,1]-dgm[:,0])))/K\n",
    "\n",
    "            regularization = tf.math.square(tf.norm(params)-1)\n",
    "\n",
    "            loss=loss+regularization\n",
    "\n",
    "        gradients = tape.gradient(loss, [params])\n",
    "        \n",
    "        optimizer.apply_gradients(zip(gradients, [params]))\n",
    "\n",
    "\n",
    "        losses.append(loss.numpy())"
   ]
  },
  {
   "cell_type": "code",
   "execution_count": 89,
   "id": "ac74ecbc-6d75-47d2-859c-2ad0164e0ce6",
   "metadata": {},
   "outputs": [
    {
     "data": {
      "image/png": "[encoded data removed]",
      "text/plain": [
       "<Figure size 640x480 with 1 Axes>"
      ]
     },
     "metadata": {},
     "output_type": "display_data"
    }
   ],
   "source": [
    "plt.figure()\n",
    "plt.plot(losses)\n",
    "plt.xlabel('Epochs')\n",
    "plt.ylabel('Loss')\n",
    "plt.show()"
   ]
  },
  {
   "cell_type": "code",
   "execution_count": 90,
   "id": "99c2f689-1caf-488a-b236-b6c8023e3793",
   "metadata": {},
   "outputs": [
    {
     "data": {
      "text/plain": [
       "<tf.Variable 'Variable:0' shape=(3, 1) dtype=float32, numpy=\n",
       "array([[0.01477412],\n",
       "       [1.858483  ],\n",
       "       [0.01844333]], dtype=float32)>"
      ]
     },
     "execution_count": 90,
     "metadata": {},
     "output_type": "execute_result"
    }
   ],
   "source": [
    "params"
   ]
  },
  {
   "cell_type": "code",
   "execution_count": 91,
   "id": "9da0591c-42c0-4a57-b62d-c2097b2ada4a",
   "metadata": {},
   "outputs": [
    {
     "data": {
      "text/plain": [
       "<tf.Tensor: shape=(), dtype=float32, numpy=1.8586332>"
      ]
     },
     "execution_count": 91,
     "metadata": {},
     "output_type": "execute_result"
    }
   ],
   "source": [
    "tf.norm(params)"
   ]
  },
  {
   "cell_type": "code",
   "execution_count": 92,
   "id": "3c6b89ef-60c2-4ad7-bad2-7f6603862955",
   "metadata": {},
   "outputs": [
    {
     "data": {
      "text/plain": [
       "<tf.Tensor: shape=(), dtype=float32, numpy=0.9999192>"
      ]
     },
     "execution_count": 92,
     "metadata": {},
     "output_type": "execute_result"
    }
   ],
   "source": [
    "tf.math.reduce_sum(params*np.array([[0],[1],[0]]))/tf.norm(params)"
   ]
  },
  {
   "cell_type": "code",
   "execution_count": 93,
   "id": "10ca1a5e-3b32-43de-ba4e-5baa52c564b1",
   "metadata": {},
   "outputs": [
    {
     "name": "stdout",
     "output_type": "stream",
     "text": [
      "Local cdn resources have problems on chrome/safari when used in jupyter-notebook. \n"
     ]
    },
    {
     "data": {
      "text/html": [
       "\n",
       "        <iframe\n",
       "            width=\"500px\"\n",
       "            height=\"500px\"\n",
       "            src=\"human_final.html\"\n",
       "            frameborder=\"0\"\n",
       "            allowfullscreen\n",
       "            \n",
       "        ></iframe>\n",
       "        "
      ],
      "text/plain": [
       "<IPython.lib.display.IFrame at 0x319bf6700>"
      ]
     },
     "execution_count": 93,
     "metadata": {},
     "output_type": "execute_result"
    }
   ],
   "source": [
    "mapper=MapperComplex(colors=f.numpy(),filters=f.numpy(),resolutions=resolutions, gains=gain, clustering=kmeans)\n",
    "mapper.fit(vertices)\n",
    "nt=mapper.get_pyvis()\n",
    "nt.show('human_final.html')"
   ]
  },
  {
   "cell_type": "code",
   "execution_count": 14,
   "id": "670df362-e563-4ed5-a1fe-51a257998660",
   "metadata": {},
   "outputs": [
    {
     "data": {
      "text/plain": [
       "(array([2.20689e+05, 1.87000e+02, 1.89000e+02, 2.41000e+02, 2.17000e+02,\n",
       "        2.73000e+02, 3.11000e+02, 3.97000e+02, 5.31000e+02, 1.46650e+04]),\n",
       " array([0. , 0.1, 0.2, 0.3, 0.4, 0.5, 0.6, 0.7, 0.8, 0.9, 1. ]),\n",
       " <BarContainer object of 10 artists>)"
      ]
     },
     "execution_count": 14,
     "metadata": {},
     "output_type": "execute_result"
    },
    {
     "data": {
      "image/png": "[encoded data removed]",
      "text/plain": [
       "<Figure size 640x480 with 1 Axes>"
      ]
     },
     "metadata": {},
     "output_type": "display_data"
    }
   ],
   "source": [
    "plt.hist(scheme.ravel())"
   ]
  },
  {
   "cell_type": "code",
   "execution_count": 15,
   "id": "34a5f7cc-9278-4be1-91f0-ff6be1d1579d",
   "metadata": {},
   "outputs": [],
   "source": [
    "order=np.argsort(fn.numpy(),axis=0)"
   ]
  },
  {
   "cell_type": "code",
   "execution_count": 16,
   "id": "40762ec3-bed4-4059-8871-08a84a46d446",
   "metadata": {},
   "outputs": [
    {
     "data": {
      "image/png": "[encoded data removed]",
      "text/plain": [
       "<Figure size 640x480 with 1 Axes>"
      ]
     },
     "metadata": {},
     "output_type": "display_data"
    }
   ],
   "source": [
    "plt.plot(fn.numpy()[order.ravel()],scheme[0,3,:][order],c='b');\n",
    "plt.plot(fn.numpy()[order.ravel()],scheme[0,4,:][order],c='r');"
   ]
  },
  {
   "cell_type": "code",
   "execution_count": 17,
   "id": "d62c7940-cb29-42c3-ab1f-6181e143dcca",
   "metadata": {},
   "outputs": [
    {
     "data": {
      "text/plain": [
       "(0.05, 0.25)"
      ]
     },
     "execution_count": 17,
     "metadata": {},
     "output_type": "execute_result"
    },
    {
     "data": {
      "image/png": "[encoded data removed]",
      "text/plain": [
       "<Figure size 640x480 with 1 Axes>"
      ]
     },
     "metadata": {},
     "output_type": "display_data"
    }
   ],
   "source": [
    "plt.plot(fn.numpy()[order.ravel()],scheme[0,3,:][order],c='b');\n",
    "plt.plot(fn.numpy()[order.ravel()],scheme[0,4,:][order],c='r');\n",
    "plt.xlim(0.05, 0.25)"
   ]
  },
  {
   "cell_type": "markdown",
   "id": "30ed3fa4-1cd0-4695-ae2f-750113fda817",
   "metadata": {
    "jp-MarkdownHeadingCollapsed": true,
    "tags": []
   },
   "source": [
    "## Octopus"
   ]
  },
  {
   "cell_type": "code",
   "execution_count": 98,
   "id": "092e9341-24bd-473b-aa57-dd492303fb5c",
   "metadata": {},
   "outputs": [
    {
     "data": {
      "application/vnd.jupyter.widget-view+json": {
       "model_id": "848bf9c64a024827b91bcf0e2fa7c7b7",
       "version_major": 2,
       "version_minor": 0
      },
      "text/plain": [
       "Renderer(camera=PerspectiveCamera(children=(DirectionalLight(color='white', intensity=0.6, position=(0.0087004…"
      ]
     },
     "metadata": {},
     "output_type": "display_data"
    }
   ],
   "source": [
    "path=r\"/Users/ziyad/Desktop/LabeledDB_new/\"\n",
    "vertices, faces = off2numpy(path + 'Octopus/132.off')\n",
    "mp.plot(vertices,faces);"
   ]
  },
  {
   "cell_type": "code",
   "execution_count": 99,
   "id": "f7a501a6-4843-4c36-b949-f8d7fc5669b0",
   "metadata": {},
   "outputs": [
    {
     "data": {
      "text/plain": [
       "array([[-0.00632285, -0.0020212 ,  0.99997797],\n",
       "       [ 0.15243223,  0.98830949,  0.00296144]])"
      ]
     },
     "execution_count": 99,
     "metadata": {},
     "output_type": "execute_result"
    }
   ],
   "source": [
    "pca = PCA(n_components=2)\n",
    "pca.fit(vertices)\n",
    "pca.components_"
   ]
  },
  {
   "cell_type": "code",
   "execution_count": 66,
   "id": "b6fc9e42-11f5-4de4-a0da-697dfb2ff1b9",
   "metadata": {},
   "outputs": [],
   "source": [
    "n_clusters=8\n",
    "resolutions=np.array([10])\n",
    "gain=np.array([0.3])\n",
    "sigma=0.01\n",
    "\n",
    "kmeans=KMeans(n_clusters=n_clusters, n_init=10)\n",
    "\n",
    "params=tf.Variable(initial_value=np.array([[1],[1],[1]]).astype(np.float32)/np.sqrt(3),trainable=True)\n",
    "X=tf.Variable(initial_value=vertices.astype(np.float32), trainable=False)\n",
    "\n",
    "lr = tf.keras.optimizers.schedules.InverseTimeDecay(initial_learning_rate=1e-0, decay_steps=10, decay_rate=.05)\n",
    "optimizer = tf.keras.optimizers.legacy.SGD(learning_rate=lr)"
   ]
  },
  {
   "cell_type": "code",
   "execution_count": 67,
   "id": "effc9f4c-7221-491a-b3c9-2af607809b5b",
   "metadata": {},
   "outputs": [
    {
     "name": "stdout",
     "output_type": "stream",
     "text": [
      "Local cdn resources have problems on chrome/safari when used in jupyter-notebook. \n"
     ]
    },
    {
     "data": {
      "text/html": [
       "\n",
       "        <iframe\n",
       "            width=\"500px\"\n",
       "            height=\"500px\"\n",
       "            src=\"octopus_initial.html\"\n",
       "            frameborder=\"0\"\n",
       "            allowfullscreen\n",
       "            \n",
       "        ></iframe>\n",
       "        "
      ],
      "text/plain": [
       "<IPython.lib.display.IFrame at 0x28f38fb50>"
      ]
     },
     "execution_count": 67,
     "metadata": {},
     "output_type": "execute_result"
    }
   ],
   "source": [
    "f=tf.tensordot(X,params,axes=1)\n",
    "mapper=MapperComplex(colors=f.numpy(),filters=f.numpy(),resolutions=resolutions, gains=gain, clustering=kmeans)\n",
    "mapper.fit(vertices)\n",
    "nt=mapper.get_pyvis()\n",
    "nt.show('octopus_initial.html')"
   ]
  },
  {
   "cell_type": "code",
   "execution_count": 68,
   "id": "927caabc-7523-4534-9da6-df4c93a775c3",
   "metadata": {},
   "outputs": [
    {
     "name": "stderr",
     "output_type": "stream",
     "text": [
      "100%|█████████████████████████████████████████| 201/201 [02:50<00:00,  1.18it/s]\n"
     ]
    }
   ],
   "source": [
    "losses = []\n",
    "K=10\n",
    "with Parallel(n_jobs=-1) as parallel:\n",
    "    for epoch in tqdm(range(200+1)):\n",
    "\n",
    "        f=tf.tensordot(X,params,axes=1)\n",
    "        fn=(f-tf.math.reduce_min(f))/(tf.math.reduce_max(f)-tf.math.reduce_min(f))\n",
    "        scheme=smooth_scheme(fn.numpy(),resolutions,gain,sigma)\n",
    "\n",
    "        upscheme=np.repeat(scheme,K,axis=0)\n",
    "\n",
    "        assignments=bernoulli.rvs(upscheme)\n",
    "\n",
    "        st,clusters=compute_mapper(X.numpy(),kmeans,assignments,maximum=8)\n",
    "        \n",
    "        with tf.GradientTape() as tape:\n",
    "            f=tf.tensordot(X,params,axes=1)\n",
    "            f_values=tf.repeat(tf.expand_dims(f,axis=0),clusters.shape[0],axis=0)\n",
    "\n",
    "            f_values=tf.repeat(f_values,clusters.shape[2],axis=2)\n",
    "\n",
    "            filtration=tf.math.reduce_sum(f_values*clusters,axis=1)/np.sum(clusters,axis=1)\n",
    "            #l=[(_LowerStarSimplexTree(st[k],filtration[k],[0],11,False)[0][0]).reshape(-1,2) for k in range(n)]\n",
    "            l=parallel(delayed(filter_st)(list(st[k].get_skeleton(1)),filtration.numpy()[k]) \n",
    "                for k in range(K))\n",
    "            loss=0\n",
    "            \n",
    "            #dgm=tf.concat([tf.gather(filtration[k],l[k]) for k in range(K)],axis=0)\n",
    "            for k in range(K):\n",
    "                dgm=tf.gather(filtration[k],l[k]) \n",
    "                loss=loss-tf.math.reduce_sum(tf.math.abs((dgm[:,1]-dgm[:,0])))/K\n",
    "\n",
    "            regularization = tf.math.square(tf.norm(params)-1)\n",
    "\n",
    "            loss=loss+regularization\n",
    "\n",
    "        gradients = tape.gradient(loss, [params])\n",
    "        \n",
    "        optimizer.apply_gradients(zip(gradients, [params]))\n",
    "\n",
    "\n",
    "        losses.append(loss.numpy())"
   ]
  },
  {
   "cell_type": "code",
   "execution_count": 73,
   "id": "49a28c61-31f0-4441-a2f0-f52af772d939",
   "metadata": {},
   "outputs": [
    {
     "data": {
      "image/png": "[encoded data removed]",
      "text/plain": [
       "<Figure size 640x480 with 1 Axes>"
      ]
     },
     "metadata": {},
     "output_type": "display_data"
    }
   ],
   "source": [
    "plt.figure()\n",
    "plt.plot(losses)\n",
    "plt.xlabel('Epochs')\n",
    "plt.ylabel('Loss')\n",
    "plt.show()"
   ]
  },
  {
   "cell_type": "code",
   "execution_count": 70,
   "id": "87cf9a3f-b9ad-4446-98dc-dd456bcee19a",
   "metadata": {
    "tags": []
   },
   "outputs": [
    {
     "data": {
      "text/plain": [
       "<tf.Variable 'Variable:0' shape=(3, 1) dtype=float32, numpy=\n",
       "array([[ 0.17241687],\n",
       "       [ 0.17622662],\n",
       "       [-3.1917758 ]], dtype=float32)>"
      ]
     },
     "execution_count": 70,
     "metadata": {},
     "output_type": "execute_result"
    }
   ],
   "source": [
    "params"
   ]
  },
  {
   "cell_type": "code",
   "execution_count": 71,
   "id": "daea0af9-918a-4f68-b793-f4afe9d75706",
   "metadata": {},
   "outputs": [
    {
     "data": {
      "text/plain": [
       "<tf.Tensor: shape=(), dtype=float32, numpy=3.2012835>"
      ]
     },
     "execution_count": 71,
     "metadata": {},
     "output_type": "execute_result"
    }
   ],
   "source": [
    "tf.norm(params)"
   ]
  },
  {
   "cell_type": "code",
   "execution_count": 75,
   "id": "0364063b-9d90-42e0-a149-79b1fb34b77e",
   "metadata": {},
   "outputs": [
    {
     "data": {
      "text/plain": [
       "<tf.Tensor: shape=(), dtype=float32, numpy=-0.99703>"
      ]
     },
     "execution_count": 75,
     "metadata": {},
     "output_type": "execute_result"
    }
   ],
   "source": [
    "tf.math.reduce_sum(params*np.array([[0],[0],[1]]))/tf.norm(params)"
   ]
  },
  {
   "cell_type": "code",
   "execution_count": 72,
   "id": "16412e1f-0d0f-4a99-8b03-a0c337e5def2",
   "metadata": {},
   "outputs": [
    {
     "name": "stdout",
     "output_type": "stream",
     "text": [
      "Local cdn resources have problems on chrome/safari when used in jupyter-notebook. \n"
     ]
    },
    {
     "data": {
      "text/html": [
       "\n",
       "        <iframe\n",
       "            width=\"500px\"\n",
       "            height=\"500px\"\n",
       "            src=\"octopus_final.html\"\n",
       "            frameborder=\"0\"\n",
       "            allowfullscreen\n",
       "            \n",
       "        ></iframe>\n",
       "        "
      ],
      "text/plain": [
       "<IPython.lib.display.IFrame at 0x31ab53880>"
      ]
     },
     "execution_count": 72,
     "metadata": {},
     "output_type": "execute_result"
    }
   ],
   "source": [
    "mapper=MapperComplex(colors=f.numpy(),filters=f.numpy(),resolutions=resolutions, gains=gain, clustering=kmeans)\n",
    "mapper.fit(vertices)\n",
    "nt=mapper.get_pyvis()\n",
    "nt.show('octopus_final.html')"
   ]
  },
  {
   "cell_type": "markdown",
   "id": "301281e2-71da-4b32-bec4-79ccb9784d7e",
   "metadata": {
    "tags": []
   },
   "source": [
    "## Table"
   ]
  },
  {
   "cell_type": "code",
   "execution_count": 24,
   "id": "505cf629-7192-4547-bff6-65514a273dc9",
   "metadata": {},
   "outputs": [
    {
     "data": {
      "application/vnd.jupyter.widget-view+json": {
       "model_id": "2598146e4b714612b88092f926496ef5",
       "version_major": 2,
       "version_minor": 0
      },
      "text/plain": [
       "Renderer(camera=PerspectiveCamera(children=(DirectionalLight(color='white', intensity=0.6, position=(0.0083769…"
      ]
     },
     "metadata": {},
     "output_type": "display_data"
    }
   ],
   "source": [
    "path=r\"/Users/ziyad/Desktop/LabeledDB_new/\"\n",
    "vertices, faces = off2numpy(path + 'Table/142.off')\n",
    "mp.plot(vertices,faces);"
   ]
  },
  {
   "cell_type": "code",
   "execution_count": 25,
   "id": "8191b78b-a8a5-4ed7-87b0-9875bb332e72",
   "metadata": {},
   "outputs": [
    {
     "data": {
      "text/plain": [
       "array([[ 9.99999801e-01,  1.38216285e-04,  6.15789146e-04],\n",
       "       [-6.16025438e-04,  1.71610266e-03,  9.99998338e-01]])"
      ]
     },
     "execution_count": 25,
     "metadata": {},
     "output_type": "execute_result"
    }
   ],
   "source": [
    "pca = PCA(n_components=2)\n",
    "pca.fit(vertices)\n",
    "pca.components_"
   ]
  },
  {
   "cell_type": "code",
   "execution_count": 42,
   "id": "ed06d4b4-c73e-4347-ad04-105ef6b1edc7",
   "metadata": {},
   "outputs": [],
   "source": [
    "n_clusters=8\n",
    "resolutions=np.array([10])\n",
    "gain=np.array([0.35])\n",
    "sigma=0.01\n",
    "\n",
    "kmeans=KMeans(n_clusters=n_clusters, n_init=10)\n",
    "\n",
    "params=tf.Variable(initial_value=np.array([[1],[1],[1]]).astype(np.float32)/np.sqrt(3),trainable=True)\n",
    "X=tf.Variable(initial_value=vertices.astype(np.float32), trainable=False)\n",
    "\n",
    "lr = tf.keras.optimizers.schedules.InverseTimeDecay(initial_learning_rate=1e-1, decay_steps=10, decay_rate=.1)\n",
    "optimizer = tf.keras.optimizers.legacy.SGD(learning_rate=lr)"
   ]
  },
  {
   "cell_type": "code",
   "execution_count": 43,
   "id": "2225679d-039b-40ca-822e-90d875d7369f",
   "metadata": {},
   "outputs": [
    {
     "name": "stdout",
     "output_type": "stream",
     "text": [
      "Local cdn resources have problems on chrome/safari when used in jupyter-notebook. \n"
     ]
    },
    {
     "data": {
      "text/html": [
       "\n",
       "        <iframe\n",
       "            width=\"500px\"\n",
       "            height=\"500px\"\n",
       "            src=\"table2_initial.html\"\n",
       "            frameborder=\"0\"\n",
       "            allowfullscreen\n",
       "            \n",
       "        ></iframe>\n",
       "        "
      ],
      "text/plain": [
       "<IPython.lib.display.IFrame at 0x293833ca0>"
      ]
     },
     "execution_count": 43,
     "metadata": {},
     "output_type": "execute_result"
    }
   ],
   "source": [
    "f=tf.tensordot(X,params,axes=1)\n",
    "mapper=MapperComplex(colors=f.numpy(),filters=f.numpy(),resolutions=resolutions, gains=gain, clustering=kmeans)\n",
    "mapper.fit(vertices)\n",
    "nt=mapper.get_pyvis()\n",
    "nt.show('table2_initial.html')"
   ]
  },
  {
   "cell_type": "code",
   "execution_count": 44,
   "id": "75229943-9629-4c74-9dab-086455aa19ca",
   "metadata": {},
   "outputs": [
    {
     "name": "stderr",
     "output_type": "stream",
     "text": [
      "100%|█████████████████████████████████████████| 201/201 [03:25<00:00,  1.02s/it]\n"
     ]
    }
   ],
   "source": [
    "losses = []\n",
    "K=10\n",
    "with Parallel(n_jobs=-1) as parallel:\n",
    "    for epoch in tqdm(range(200+1)):\n",
    "\n",
    "        f=tf.tensordot(X,params,axes=1)\n",
    "        fn=(f-tf.math.reduce_min(f))/(tf.math.reduce_max(f)-tf.math.reduce_min(f))\n",
    "        scheme=smooth_scheme(fn.numpy(),resolutions,gain,sigma)\n",
    "\n",
    "        upscheme=np.repeat(scheme,K,axis=0)\n",
    "\n",
    "        assignments=bernoulli.rvs(upscheme)\n",
    "\n",
    "        st,clusters=compute_mapper(X.numpy(),kmeans,assignments,maximum=8)\n",
    "        \n",
    "        with tf.GradientTape() as tape:\n",
    "            f=tf.tensordot(X,params,axes=1)\n",
    "            f_values=tf.repeat(tf.expand_dims(f,axis=0),clusters.shape[0],axis=0)\n",
    "\n",
    "            f_values=tf.repeat(f_values,clusters.shape[2],axis=2)\n",
    "\n",
    "            filtration=tf.math.reduce_sum(f_values*clusters,axis=1)/np.sum(clusters,axis=1)\n",
    "            #l=[(_LowerStarSimplexTree(st[k],filtration[k],[0],11,False)[0][0]).reshape(-1,2) for k in range(n)]\n",
    "            l=parallel(delayed(filter_st)(list(st[k].get_skeleton(1)),filtration.numpy()[k]) \n",
    "                for k in range(K))\n",
    "            loss=0\n",
    "            \n",
    "            #dgm=tf.concat([tf.gather(filtration[k],l[k]) for k in range(K)],axis=0)\n",
    "            for k in range(K):\n",
    "                dgm=tf.gather(filtration[k],l[k]) \n",
    "                loss=loss-tf.math.reduce_sum(tf.math.abs((dgm[:,1]-dgm[:,0])))/K\n",
    "\n",
    "            regularization = tf.math.square(tf.norm(params)-1)\n",
    "\n",
    "            loss=loss+regularization\n",
    "\n",
    "        gradients = tape.gradient(loss, [params])\n",
    "        \n",
    "        optimizer.apply_gradients(zip(gradients, [params]))\n",
    "\n",
    "\n",
    "        losses.append(loss.numpy())"
   ]
  },
  {
   "cell_type": "code",
   "execution_count": 45,
   "id": "c3b7bed5-6e9c-458a-b64d-5f2ed2230b76",
   "metadata": {},
   "outputs": [
    {
     "data": {
      "image/png": "[encoded data removed]",
      "text/plain": [
       "<Figure size 640x480 with 1 Axes>"
      ]
     },
     "metadata": {},
     "output_type": "display_data"
    }
   ],
   "source": [
    "plt.figure()\n",
    "plt.plot(losses)\n",
    "plt.xlabel('Epochs')\n",
    "plt.ylabel('Loss')\n",
    "plt.show()"
   ]
  },
  {
   "cell_type": "code",
   "execution_count": 46,
   "id": "0cb28383-1f00-4968-be03-68cda395713d",
   "metadata": {
    "tags": []
   },
   "outputs": [
    {
     "data": {
      "text/plain": [
       "<tf.Variable 'Variable:0' shape=(3, 1) dtype=float32, numpy=\n",
       "array([[0.0130276 ],\n",
       "       [1.8701462 ],\n",
       "       [0.06767668]], dtype=float32)>"
      ]
     },
     "execution_count": 46,
     "metadata": {},
     "output_type": "execute_result"
    }
   ],
   "source": [
    "params"
   ]
  },
  {
   "cell_type": "code",
   "execution_count": 47,
   "id": "97ea7e17-a19d-495e-ab74-96363832d632",
   "metadata": {},
   "outputs": [
    {
     "data": {
      "text/plain": [
       "<tf.Tensor: shape=(), dtype=float32, numpy=1.8714156>"
      ]
     },
     "execution_count": 47,
     "metadata": {},
     "output_type": "execute_result"
    }
   ],
   "source": [
    "tf.norm(params)"
   ]
  },
  {
   "cell_type": "code",
   "execution_count": 48,
   "id": "3908229a-58bc-43ca-a559-f3059852b87b",
   "metadata": {},
   "outputs": [
    {
     "data": {
      "text/plain": [
       "<tf.Tensor: shape=(), dtype=float32, numpy=0.99932164>"
      ]
     },
     "execution_count": 48,
     "metadata": {},
     "output_type": "execute_result"
    }
   ],
   "source": [
    "tf.math.reduce_sum(params*np.array([[0],[1],[0]]))/tf.norm(params)"
   ]
  },
  {
   "cell_type": "code",
   "execution_count": 49,
   "id": "d765855f-7dd2-4ddd-979d-7344a1a78e13",
   "metadata": {},
   "outputs": [
    {
     "name": "stdout",
     "output_type": "stream",
     "text": [
      "Local cdn resources have problems on chrome/safari when used in jupyter-notebook. \n"
     ]
    },
    {
     "data": {
      "text/html": [
       "\n",
       "        <iframe\n",
       "            width=\"500px\"\n",
       "            height=\"500px\"\n",
       "            src=\"table2_final.html\"\n",
       "            frameborder=\"0\"\n",
       "            allowfullscreen\n",
       "            \n",
       "        ></iframe>\n",
       "        "
      ],
      "text/plain": [
       "<IPython.lib.display.IFrame at 0x2ef29f3d0>"
      ]
     },
     "execution_count": 49,
     "metadata": {},
     "output_type": "execute_result"
    }
   ],
   "source": [
    "mapper=MapperComplex(colors=f.numpy(),filters=f.numpy(),resolutions=resolutions, gains=gain, clustering=kmeans)\n",
    "mapper.fit(vertices)\n",
    "nt=mapper.get_pyvis()\n",
    "nt.show('table2_final.html')"
   ]
  },
  {
   "cell_type": "code",
   "execution_count": null,
   "id": "94593e47-4092-4a1d-81cd-0d32f7b218fa",
   "metadata": {},
   "outputs": [],
   "source": []
  }
 ],
 "metadata": {
  "kernelspec": {
   "display_name": "Python 3 (ipykernel)",
   "language": "python",
   "name": "python3"
  },
  "language_info": {
   "codemirror_mode": {
    "name": "ipython",
    "version": 3
   },
   "file_extension": ".py",
   "mimetype": "text/x-python",
   "name": "python",
   "nbconvert_exporter": "python",
   "pygments_lexer": "ipython3",
   "version": "3.11.6"
  }
 },
 "nbformat": 4,
 "nbformat_minor": 5
}
