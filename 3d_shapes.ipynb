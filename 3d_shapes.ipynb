{
 "cells": [
  {
   "cell_type": "code",
   "execution_count": 1,
   "id": "b19169d9-8511-4932-8a9f-1d09f1b728a9",
   "metadata": {},
   "outputs": [],
   "source": [
    "import matplotlib.pyplot as plt\n",
    "import numpy as np\n",
    "import tensorflow as tf\n",
    "import meshplot as mp\n",
    "import gudhi                 as gd\n",
    "from tqdm                    import tqdm\n",
    "from sklearn.cluster import KMeans\n",
    "from mapper import MapperComplex\n",
    "from scipy.stats import bernoulli\n",
    "import itertools\n",
    "from joblib import Parallel, delayed\n",
    "from pyvis.network import Network\n",
    "from SoftMapper import smooth_scheme, compute_mapper, filter_st\n",
    "import time\n",
    "from sklearn.decomposition import PCA"
   ]
  },
  {
   "cell_type": "markdown",
   "id": "32780b88-997b-4af9-b801-e9b26398a7b0",
   "metadata": {
    "tags": []
   },
   "source": [
    "## Utils for importing shapes"
   ]
  },
  {
   "cell_type": "code",
   "execution_count": 2,
   "id": "2b6679ab-daa7-4fbe-bba0-73acec2a0835",
   "metadata": {},
   "outputs": [],
   "source": [
    "def off2numpy(shape_name):\n",
    "    with open(shape_name, 'r') as S:\n",
    "        S.readline()\n",
    "        num_vertices, num_faces, _ = [int(n) for n in S.readline().split(' ')]\n",
    "        info = S.readlines()\n",
    "    vertices = np.array([[float(coord) for coord in l.split(' ')] for l in info[0:num_vertices]])\n",
    "    faces    = np.array([[int(coord) for coord in l.split(' ')[1:]] for l in info[num_vertices:]])\n",
    "    return vertices, faces"
   ]
  },
  {
   "cell_type": "markdown",
   "id": "044f1453-01f2-4ad5-bbb6-9101a2085540",
   "metadata": {
    "jp-MarkdownHeadingCollapsed": true,
    "tags": []
   },
   "source": [
    "## Human"
   ]
  },
  {
   "cell_type": "code",
   "execution_count": 3,
   "id": "fb3985b9-5d54-4679-97a1-064aa21287cf",
   "metadata": {},
   "outputs": [
    {
     "data": {
      "application/vnd.jupyter.widget-view+json": {
       "model_id": "ea3d8d266480464bae2b61a1ec2c6b66",
       "version_major": 2,
       "version_minor": 0
      },
      "text/plain": [
       "Renderer(camera=PerspectiveCamera(children=(DirectionalLight(color='white', intensity=0.6, position=(-0.035629…"
      ]
     },
     "metadata": {},
     "output_type": "display_data"
    }
   ],
   "source": [
    "\n",
    "vertices, faces = off2numpy(r'Datasets/human.off')\n",
    "mp.plot(vertices,faces);"
   ]
  },
  {
   "cell_type": "code",
   "execution_count": 4,
   "id": "38a46378-5105-4f03-8db4-9b01a223f795",
   "metadata": {},
   "outputs": [
    {
     "data": {
      "text/plain": [
       "array([[ 4.36321542e-04, -9.99961742e-01,  8.73634851e-03],\n",
       "       [-3.17885971e-02,  8.71806460e-03,  9.99456593e-01]])"
      ]
     },
     "execution_count": 4,
     "metadata": {},
     "output_type": "execute_result"
    }
   ],
   "source": [
    "from sklearn.decomposition import PCA\n",
    "pca = PCA(n_components=2)\n",
    "pca.fit(vertices)\n",
    "pca.components_"
   ]
  },
  {
   "cell_type": "code",
   "execution_count": 5,
   "id": "c891dff9-314c-4540-a23b-736453924c3d",
   "metadata": {},
   "outputs": [
    {
     "name": "stderr",
     "output_type": "stream",
     "text": [
      "2024-02-09 10:48:45.897130: I metal_plugin/src/device/metal_device.cc:1154] Metal device set to: Apple M2\n",
      "2024-02-09 10:48:45.897152: I metal_plugin/src/device/metal_device.cc:296] systemMemory: 8.00 GB\n",
      "2024-02-09 10:48:45.897160: I metal_plugin/src/device/metal_device.cc:313] maxCacheSize: 2.67 GB\n",
      "2024-02-09 10:48:45.897215: I tensorflow/core/common_runtime/pluggable_device/pluggable_device_factory.cc:306] Could not identify NUMA node of platform GPU ID 0, defaulting to 0. Your kernel may not have been built with NUMA support.\n",
      "2024-02-09 10:48:45.897406: I tensorflow/core/common_runtime/pluggable_device/pluggable_device_factory.cc:272] Created TensorFlow device (/job:localhost/replica:0/task:0/device:GPU:0 with 0 MB memory) -> physical PluggableDevice (device: 0, name: METAL, pci bus id: <undefined>)\n"
     ]
    }
   ],
   "source": [
    "n_clusters=3\n",
    "resolutions=np.array([25])\n",
    "gain=np.array([0.3])\n",
    "\n",
    "sigma=0.01\n",
    "\n",
    "kmeans=KMeans(n_clusters=n_clusters)\n",
    "\n",
    "\n",
    "params=tf.Variable(initial_value=np.array([[1],[1],[1]]).astype(np.float32)/np.sqrt(3),trainable=True)\n",
    "X=tf.Variable(initial_value=vertices.astype(np.float32), trainable=False)\n",
    "\n",
    "lr = tf.keras.optimizers.schedules.InverseTimeDecay(initial_learning_rate=5e-2, decay_steps=10, decay_rate=.01)\n",
    "optimizer = tf.keras.optimizers.legacy.SGD(learning_rate=lr)"
   ]
  },
  {
   "cell_type": "code",
   "execution_count": 6,
   "id": "4bef7951-b0e1-4f5b-8e2f-9346a00fc61c",
   "metadata": {},
   "outputs": [
    {
     "name": "stdout",
     "output_type": "stream",
     "text": [
      "Local cdn resources have problems on chrome/safari when used in jupyter-notebook. \n"
     ]
    },
    {
     "data": {
      "text/html": [
       "\n",
       "        <iframe\n",
       "            width=\"500px\"\n",
       "            height=\"500px\"\n",
       "            src=\"human_initial.html\"\n",
       "            frameborder=\"0\"\n",
       "            allowfullscreen\n",
       "            \n",
       "        ></iframe>\n",
       "        "
      ],
      "text/plain": [
       "<IPython.lib.display.IFrame at 0x287dcdca0>"
      ]
     },
     "execution_count": 6,
     "metadata": {},
     "output_type": "execute_result"
    }
   ],
   "source": [
    "f=tf.tensordot(X,params,axes=1)\n",
    "mapper=MapperComplex(colors=f.numpy(),filters=f.numpy(),resolutions=resolutions, gains=gain, clustering=kmeans)\n",
    "mapper.fit(vertices)\n",
    "nt=mapper.get_pyvis()\n",
    "nt.show('human_initial.html')"
   ]
  },
  {
   "cell_type": "code",
   "execution_count": 7,
   "id": "9e63d691-7dad-44ba-93f8-064cbe40ccd6",
   "metadata": {},
   "outputs": [
    {
     "name": "stderr",
     "output_type": "stream",
     "text": [
      "100%|█████████████████████████████████████████| 201/201 [03:30<00:00,  1.05s/it]\n"
     ]
    }
   ],
   "source": [
    "losses = []\n",
    "K=10\n",
    "with Parallel(n_jobs=-1) as parallel:\n",
    "    for epoch in tqdm(range(200+1)):\n",
    "\n",
    "        f=tf.tensordot(X,params,axes=1)\n",
    "        fn=(f-tf.math.reduce_min(f))/(tf.math.reduce_max(f)-tf.math.reduce_min(f))\n",
    "        scheme=smooth_scheme(fn.numpy(),resolutions,gain,sigma)\n",
    "\n",
    "        upscheme=np.repeat(scheme,K,axis=0)\n",
    "\n",
    "        assignments=bernoulli.rvs(upscheme)\n",
    "\n",
    "        st,clusters=compute_mapper(X.numpy(),kmeans,assignments)\n",
    "        \n",
    "        with tf.GradientTape() as tape:\n",
    "            f=tf.tensordot(X,params,axes=1)\n",
    "            f_values=tf.repeat(tf.expand_dims(f,axis=0),clusters.shape[0],axis=0)\n",
    "\n",
    "            f_values=tf.repeat(f_values,clusters.shape[2],axis=2)\n",
    "\n",
    "            filtration=tf.math.reduce_sum(f_values*clusters,axis=1)/np.sum(clusters,axis=1)\n",
    "            #l=[(_LowerStarSimplexTree(st[k],filtration[k],[0],11,False)[0][0]).reshape(-1,2) for k in range(n)]\n",
    "            l=parallel(delayed(filter_st)(list(st[k].get_skeleton(1)),filtration.numpy()[k]) \n",
    "                for k in range(K))\n",
    "            loss=0\n",
    "            \n",
    "            #dgm=tf.concat([tf.gather(filtration[k],l[k]) for k in range(K)],axis=0)\n",
    "            for k in range(K):\n",
    "                dgm=tf.gather(filtration[k],l[k]) \n",
    "                loss=loss-tf.math.reduce_sum(tf.math.abs((dgm[:,1]-dgm[:,0])))/K\n",
    "\n",
    "            regularization = tf.math.square(tf.norm(params)-1)\n",
    "\n",
    "            loss=loss+regularization\n",
    "\n",
    "        gradients = tape.gradient(loss, [params])\n",
    "        \n",
    "        optimizer.apply_gradients(zip(gradients, [params]))\n",
    "\n",
    "\n",
    "        losses.append(loss.numpy())"
   ]
  },
  {
   "cell_type": "code",
   "execution_count": 8,
   "id": "ac74ecbc-6d75-47d2-859c-2ad0164e0ce6",
   "metadata": {},
   "outputs": [
    {
     "data": {
      "image/png": "[encoded data removed]",
      "text/plain": [
       "<Figure size 640x480 with 1 Axes>"
      ]
     },
     "metadata": {},
     "output_type": "display_data"
    }
   ],
   "source": [
    "plt.figure()\n",
    "plt.plot(losses)\n",
    "plt.xlabel('Epochs')\n",
    "plt.ylabel('Loss')\n",
    "plt.show()"
   ]
  },
  {
   "cell_type": "code",
   "execution_count": 9,
   "id": "99c2f689-1caf-488a-b236-b6c8023e3793",
   "metadata": {},
   "outputs": [
    {
     "data": {
      "text/plain": [
       "<tf.Variable 'Variable:0' shape=(3, 1) dtype=float32, numpy=\n",
       "array([[0.01794377],\n",
       "       [1.8616167 ],\n",
       "       [0.02403543]], dtype=float32)>"
      ]
     },
     "execution_count": 9,
     "metadata": {},
     "output_type": "execute_result"
    }
   ],
   "source": [
    "params"
   ]
  },
  {
   "cell_type": "code",
   "execution_count": 10,
   "id": "9da0591c-42c0-4a57-b62d-c2097b2ada4a",
   "metadata": {},
   "outputs": [
    {
     "data": {
      "text/plain": [
       "<tf.Tensor: shape=(), dtype=float32, numpy=1.8618584>"
      ]
     },
     "execution_count": 10,
     "metadata": {},
     "output_type": "execute_result"
    }
   ],
   "source": [
    "tf.norm(params)"
   ]
  },
  {
   "cell_type": "code",
   "execution_count": 11,
   "id": "3c6b89ef-60c2-4ad7-bad2-7f6603862955",
   "metadata": {},
   "outputs": [
    {
     "data": {
      "text/plain": [
       "<tf.Tensor: shape=(), dtype=float32, numpy=0.99987024>"
      ]
     },
     "execution_count": 11,
     "metadata": {},
     "output_type": "execute_result"
    }
   ],
   "source": [
    "tf.math.reduce_sum(params*np.array([[0],[1],[0]]))/tf.norm(params)"
   ]
  },
  {
   "cell_type": "code",
   "execution_count": 12,
   "id": "10ca1a5e-3b32-43de-ba4e-5baa52c564b1",
   "metadata": {},
   "outputs": [
    {
     "name": "stdout",
     "output_type": "stream",
     "text": [
      "Local cdn resources have problems on chrome/safari when used in jupyter-notebook. \n"
     ]
    },
    {
     "data": {
      "text/html": [
       "\n",
       "        <iframe\n",
       "            width=\"500px\"\n",
       "            height=\"500px\"\n",
       "            src=\"human_final.html\"\n",
       "            frameborder=\"0\"\n",
       "            allowfullscreen\n",
       "            \n",
       "        ></iframe>\n",
       "        "
      ],
      "text/plain": [
       "<IPython.lib.display.IFrame at 0x17635a730>"
      ]
     },
     "execution_count": 12,
     "metadata": {},
     "output_type": "execute_result"
    }
   ],
   "source": [
    "mapper=MapperComplex(colors=f.numpy(),filters=f.numpy(),resolutions=resolutions, gains=gain, clustering=kmeans)\n",
    "mapper.fit(vertices)\n",
    "nt=mapper.get_pyvis()\n",
    "nt.show('human_final.html')"
   ]
  },
  {
   "cell_type": "markdown",
   "id": "30ed3fa4-1cd0-4695-ae2f-750113fda817",
   "metadata": {
    "jp-MarkdownHeadingCollapsed": true,
    "tags": []
   },
   "source": [
    "## Octopus"
   ]
  },
  {
   "cell_type": "code",
   "execution_count": 19,
   "id": "092e9341-24bd-473b-aa57-dd492303fb5c",
   "metadata": {},
   "outputs": [
    {
     "data": {
      "application/vnd.jupyter.widget-view+json": {
       "model_id": "25cec365b3714dcfb60badcc95aa005e",
       "version_major": 2,
       "version_minor": 0
      },
      "text/plain": [
       "Renderer(camera=PerspectiveCamera(children=(DirectionalLight(color='white', intensity=0.6, position=(0.0087004…"
      ]
     },
     "metadata": {},
     "output_type": "display_data"
    }
   ],
   "source": [
    "\n",
    "vertices, faces = off2numpy(r'Datasets/octopus.off')\n",
    "mp.plot(vertices,faces);"
   ]
  },
  {
   "cell_type": "code",
   "execution_count": 20,
   "id": "b6fc9e42-11f5-4de4-a0da-697dfb2ff1b9",
   "metadata": {},
   "outputs": [],
   "source": [
    "n_clusters=8\n",
    "resolutions=np.array([10])\n",
    "gain=np.array([0.3])\n",
    "sigma=0.01\n",
    "\n",
    "kmeans=KMeans(n_clusters=n_clusters,random_state=0)\n",
    "\n",
    "params=tf.Variable(initial_value=np.array([[1],[1],[1]]).astype(np.float32)/np.sqrt(3),trainable=True)\n",
    "X=tf.Variable(initial_value=vertices.astype(np.float32), trainable=False)\n",
    "\n",
    "lr = tf.keras.optimizers.schedules.InverseTimeDecay(initial_learning_rate=1e-0, decay_steps=10, decay_rate=.05)\n",
    "optimizer = tf.keras.optimizers.legacy.SGD(learning_rate=lr)"
   ]
  },
  {
   "cell_type": "code",
   "execution_count": 21,
   "id": "effc9f4c-7221-491a-b3c9-2af607809b5b",
   "metadata": {},
   "outputs": [
    {
     "name": "stdout",
     "output_type": "stream",
     "text": [
      "Local cdn resources have problems on chrome/safari when used in jupyter-notebook. \n"
     ]
    },
    {
     "data": {
      "text/html": [
       "\n",
       "        <iframe\n",
       "            width=\"500px\"\n",
       "            height=\"500px\"\n",
       "            src=\"octopus_initial.html\"\n",
       "            frameborder=\"0\"\n",
       "            allowfullscreen\n",
       "            \n",
       "        ></iframe>\n",
       "        "
      ],
      "text/plain": [
       "<IPython.lib.display.IFrame at 0x294132df0>"
      ]
     },
     "execution_count": 21,
     "metadata": {},
     "output_type": "execute_result"
    }
   ],
   "source": [
    "f=tf.tensordot(X,params,axes=1)\n",
    "mapper=MapperComplex(colors=f.numpy(),filters=f.numpy(),resolutions=resolutions, gains=gain, clustering=kmeans)\n",
    "mapper.fit(vertices)\n",
    "nt=mapper.get_pyvis()\n",
    "nt.show('octopus_initial.html')"
   ]
  },
  {
   "cell_type": "code",
   "execution_count": 22,
   "id": "927caabc-7523-4534-9da6-df4c93a775c3",
   "metadata": {},
   "outputs": [
    {
     "name": "stderr",
     "output_type": "stream",
     "text": [
      "100%|█████████████████████████████████████████| 201/201 [02:48<00:00,  1.19it/s]\n"
     ]
    }
   ],
   "source": [
    "losses = []\n",
    "K=10\n",
    "with Parallel(n_jobs=-1) as parallel:\n",
    "    for epoch in tqdm(range(200+1)):\n",
    "\n",
    "        f=tf.tensordot(X,params,axes=1)\n",
    "        fn=(f-tf.math.reduce_min(f))/(tf.math.reduce_max(f)-tf.math.reduce_min(f))\n",
    "        scheme=smooth_scheme(fn.numpy(),resolutions,gain,sigma)\n",
    "\n",
    "        upscheme=np.repeat(scheme,K,axis=0)\n",
    "\n",
    "        assignments=bernoulli.rvs(upscheme,random_state=0)\n",
    "\n",
    "        st,clusters=compute_mapper(X.numpy(),kmeans,assignments,maximum=8)\n",
    "        \n",
    "        with tf.GradientTape() as tape:\n",
    "            f=tf.tensordot(X,params,axes=1)\n",
    "            f_values=tf.repeat(tf.expand_dims(f,axis=0),clusters.shape[0],axis=0)\n",
    "\n",
    "            f_values=tf.repeat(f_values,clusters.shape[2],axis=2)\n",
    "\n",
    "            filtration=tf.math.reduce_sum(f_values*clusters,axis=1)/np.sum(clusters,axis=1)\n",
    "            #l=[(_LowerStarSimplexTree(st[k],filtration[k],[0],11,False)[0][0]).reshape(-1,2) for k in range(n)]\n",
    "            l=parallel(delayed(filter_st)(list(st[k].get_skeleton(1)),filtration.numpy()[k]) \n",
    "                for k in range(K))\n",
    "            loss=0\n",
    "            \n",
    "            #dgm=tf.concat([tf.gather(filtration[k],l[k]) for k in range(K)],axis=0)\n",
    "            for k in range(K):\n",
    "                dgm=tf.gather(filtration[k],l[k]) \n",
    "                loss=loss-tf.math.reduce_sum(tf.math.abs((dgm[:,1]-dgm[:,0])))/K\n",
    "\n",
    "            regularization = tf.math.square(tf.norm(params)-1)\n",
    "\n",
    "            loss=loss+regularization\n",
    "\n",
    "        gradients = tape.gradient(loss, [params])\n",
    "        \n",
    "        optimizer.apply_gradients(zip(gradients, [params]))\n",
    "\n",
    "\n",
    "        losses.append(loss.numpy())"
   ]
  },
  {
   "cell_type": "code",
   "execution_count": 23,
   "id": "49a28c61-31f0-4441-a2f0-f52af772d939",
   "metadata": {},
   "outputs": [
    {
     "data": {
      "image/png": "[encoded data removed]",
      "text/plain": [
       "<Figure size 640x480 with 1 Axes>"
      ]
     },
     "metadata": {},
     "output_type": "display_data"
    }
   ],
   "source": [
    "plt.figure()\n",
    "plt.plot(losses)\n",
    "plt.xlabel('Epochs')\n",
    "plt.ylabel('Loss')\n",
    "plt.show()"
   ]
  },
  {
   "cell_type": "code",
   "execution_count": 24,
   "id": "87cf9a3f-b9ad-4446-98dc-dd456bcee19a",
   "metadata": {
    "tags": []
   },
   "outputs": [
    {
     "data": {
      "text/plain": [
       "<tf.Variable 'Variable:0' shape=(3, 1) dtype=float32, numpy=\n",
       "array([[-0.18035083],\n",
       "       [ 0.11191036],\n",
       "       [-3.7973974 ]], dtype=float32)>"
      ]
     },
     "execution_count": 24,
     "metadata": {},
     "output_type": "execute_result"
    }
   ],
   "source": [
    "params"
   ]
  },
  {
   "cell_type": "code",
   "execution_count": 25,
   "id": "daea0af9-918a-4f68-b793-f4afe9d75706",
   "metadata": {},
   "outputs": [
    {
     "data": {
      "text/plain": [
       "<tf.Tensor: shape=(), dtype=float32, numpy=3.8033245>"
      ]
     },
     "execution_count": 25,
     "metadata": {},
     "output_type": "execute_result"
    }
   ],
   "source": [
    "tf.norm(params)"
   ]
  },
  {
   "cell_type": "code",
   "execution_count": 26,
   "id": "0364063b-9d90-42e0-a149-79b1fb34b77e",
   "metadata": {},
   "outputs": [
    {
     "data": {
      "text/plain": [
       "<tf.Tensor: shape=(), dtype=float32, numpy=-0.9984416>"
      ]
     },
     "execution_count": 26,
     "metadata": {},
     "output_type": "execute_result"
    }
   ],
   "source": [
    "tf.math.reduce_sum(params*np.array([[0],[0],[1]]))/tf.norm(params)"
   ]
  },
  {
   "cell_type": "code",
   "execution_count": 27,
   "id": "16412e1f-0d0f-4a99-8b03-a0c337e5def2",
   "metadata": {},
   "outputs": [
    {
     "name": "stdout",
     "output_type": "stream",
     "text": [
      "Local cdn resources have problems on chrome/safari when used in jupyter-notebook. \n"
     ]
    },
    {
     "data": {
      "text/html": [
       "\n",
       "        <iframe\n",
       "            width=\"500px\"\n",
       "            height=\"500px\"\n",
       "            src=\"octopus_final.html\"\n",
       "            frameborder=\"0\"\n",
       "            allowfullscreen\n",
       "            \n",
       "        ></iframe>\n",
       "        "
      ],
      "text/plain": [
       "<IPython.lib.display.IFrame at 0x2f8691fa0>"
      ]
     },
     "execution_count": 27,
     "metadata": {},
     "output_type": "execute_result"
    }
   ],
   "source": [
    "mapper=MapperComplex(colors=f.numpy(),filters=f.numpy(),resolutions=resolutions, gains=gain, clustering=kmeans)\n",
    "mapper.fit(vertices)\n",
    "nt=mapper.get_pyvis()\n",
    "nt.show('octopus_final.html')"
   ]
  },
  {
   "cell_type": "markdown",
   "id": "301281e2-71da-4b32-bec4-79ccb9784d7e",
   "metadata": {
    "jp-MarkdownHeadingCollapsed": true,
    "tags": []
   },
   "source": [
    "## Table"
   ]
  },
  {
   "cell_type": "code",
   "execution_count": 28,
   "id": "505cf629-7192-4547-bff6-65514a273dc9",
   "metadata": {},
   "outputs": [
    {
     "data": {
      "application/vnd.jupyter.widget-view+json": {
       "model_id": "2bf1fe8ec76b4e668bf39dc716c61326",
       "version_major": 2,
       "version_minor": 0
      },
      "text/plain": [
       "Renderer(camera=PerspectiveCamera(children=(DirectionalLight(color='white', intensity=0.6, position=(0.0083769…"
      ]
     },
     "metadata": {},
     "output_type": "display_data"
    }
   ],
   "source": [
    "\n",
    "vertices, faces = off2numpy(r'Datasets/table.off')\n",
    "mp.plot(vertices,faces);"
   ]
  },
  {
   "cell_type": "code",
   "execution_count": 29,
   "id": "8191b78b-a8a5-4ed7-87b0-9875bb332e72",
   "metadata": {},
   "outputs": [
    {
     "data": {
      "text/plain": [
       "array([[ 9.99999801e-01,  1.38216285e-04,  6.15789146e-04],\n",
       "       [-6.16025438e-04,  1.71610266e-03,  9.99998338e-01]])"
      ]
     },
     "execution_count": 29,
     "metadata": {},
     "output_type": "execute_result"
    }
   ],
   "source": [
    "pca = PCA(n_components=2)\n",
    "pca.fit(vertices)\n",
    "pca.components_"
   ]
  },
  {
   "cell_type": "code",
   "execution_count": 30,
   "id": "ed06d4b4-c73e-4347-ad04-105ef6b1edc7",
   "metadata": {},
   "outputs": [],
   "source": [
    "n_clusters=8\n",
    "resolutions=np.array([10])\n",
    "gain=np.array([0.35])\n",
    "sigma=0.01\n",
    "\n",
    "kmeans=KMeans(n_clusters=n_clusters)\n",
    "\n",
    "params=tf.Variable(initial_value=np.array([[1],[1],[1]]).astype(np.float32)/np.sqrt(3),trainable=True)\n",
    "X=tf.Variable(initial_value=vertices.astype(np.float32), trainable=False)\n",
    "\n",
    "lr = tf.keras.optimizers.schedules.InverseTimeDecay(initial_learning_rate=1e-1, decay_steps=10, decay_rate=.1)\n",
    "optimizer = tf.keras.optimizers.legacy.SGD(learning_rate=lr)"
   ]
  },
  {
   "cell_type": "code",
   "execution_count": 31,
   "id": "2225679d-039b-40ca-822e-90d875d7369f",
   "metadata": {},
   "outputs": [
    {
     "name": "stdout",
     "output_type": "stream",
     "text": [
      "Local cdn resources have problems on chrome/safari when used in jupyter-notebook. \n"
     ]
    },
    {
     "data": {
      "text/html": [
       "\n",
       "        <iframe\n",
       "            width=\"500px\"\n",
       "            height=\"500px\"\n",
       "            src=\"table2_initial.html\"\n",
       "            frameborder=\"0\"\n",
       "            allowfullscreen\n",
       "            \n",
       "        ></iframe>\n",
       "        "
      ],
      "text/plain": [
       "<IPython.lib.display.IFrame at 0x3015fe880>"
      ]
     },
     "execution_count": 31,
     "metadata": {},
     "output_type": "execute_result"
    }
   ],
   "source": [
    "f=tf.tensordot(X,params,axes=1)\n",
    "mapper=MapperComplex(colors=f.numpy(),filters=f.numpy(),resolutions=resolutions, gains=gain, clustering=kmeans)\n",
    "mapper.fit(vertices)\n",
    "nt=mapper.get_pyvis()\n",
    "nt.show('table2_initial.html')"
   ]
  },
  {
   "cell_type": "code",
   "execution_count": 32,
   "id": "75229943-9629-4c74-9dab-086455aa19ca",
   "metadata": {},
   "outputs": [
    {
     "name": "stderr",
     "output_type": "stream",
     "text": [
      "100%|█████████████████████████████████████████| 201/201 [03:23<00:00,  1.01s/it]\n"
     ]
    }
   ],
   "source": [
    "losses = []\n",
    "K=10\n",
    "with Parallel(n_jobs=-1) as parallel:\n",
    "    for epoch in tqdm(range(200+1)):\n",
    "\n",
    "        f=tf.tensordot(X,params,axes=1)\n",
    "        fn=(f-tf.math.reduce_min(f))/(tf.math.reduce_max(f)-tf.math.reduce_min(f))\n",
    "        scheme=smooth_scheme(fn.numpy(),resolutions,gain,sigma)\n",
    "\n",
    "        upscheme=np.repeat(scheme,K,axis=0)\n",
    "\n",
    "        assignments=bernoulli.rvs(upscheme)\n",
    "\n",
    "        st,clusters=compute_mapper(X.numpy(),kmeans,assignments,maximum=8)\n",
    "        \n",
    "        with tf.GradientTape() as tape:\n",
    "            f=tf.tensordot(X,params,axes=1)\n",
    "            f_values=tf.repeat(tf.expand_dims(f,axis=0),clusters.shape[0],axis=0)\n",
    "\n",
    "            f_values=tf.repeat(f_values,clusters.shape[2],axis=2)\n",
    "\n",
    "            filtration=tf.math.reduce_sum(f_values*clusters,axis=1)/np.sum(clusters,axis=1)\n",
    "            #l=[(_LowerStarSimplexTree(st[k],filtration[k],[0],11,False)[0][0]).reshape(-1,2) for k in range(n)]\n",
    "            l=parallel(delayed(filter_st)(list(st[k].get_skeleton(1)),filtration.numpy()[k]) \n",
    "                for k in range(K))\n",
    "            loss=0\n",
    "            \n",
    "            #dgm=tf.concat([tf.gather(filtration[k],l[k]) for k in range(K)],axis=0)\n",
    "            for k in range(K):\n",
    "                dgm=tf.gather(filtration[k],l[k]) \n",
    "                loss=loss-tf.math.reduce_sum(tf.math.abs((dgm[:,1]-dgm[:,0])))/K\n",
    "\n",
    "            regularization = tf.math.square(tf.norm(params)-1)\n",
    "\n",
    "            loss=loss+regularization\n",
    "\n",
    "        gradients = tape.gradient(loss, [params])\n",
    "        \n",
    "        optimizer.apply_gradients(zip(gradients, [params]))\n",
    "\n",
    "\n",
    "        losses.append(loss.numpy())"
   ]
  },
  {
   "cell_type": "code",
   "execution_count": 33,
   "id": "c3b7bed5-6e9c-458a-b64d-5f2ed2230b76",
   "metadata": {},
   "outputs": [
    {
     "data": {
      "image/png": "[encoded data removed]",
      "text/plain": [
       "<Figure size 640x480 with 1 Axes>"
      ]
     },
     "metadata": {},
     "output_type": "display_data"
    }
   ],
   "source": [
    "plt.figure()\n",
    "plt.plot(losses)\n",
    "plt.xlabel('Epochs')\n",
    "plt.ylabel('Loss')\n",
    "plt.show()"
   ]
  },
  {
   "cell_type": "code",
   "execution_count": 34,
   "id": "0cb28383-1f00-4968-be03-68cda395713d",
   "metadata": {
    "tags": []
   },
   "outputs": [
    {
     "data": {
      "text/plain": [
       "<tf.Variable 'Variable:0' shape=(3, 1) dtype=float32, numpy=\n",
       "array([[-3.0332571e-03],\n",
       "       [ 1.8564398e+00],\n",
       "       [ 1.4509372e-03]], dtype=float32)>"
      ]
     },
     "execution_count": 34,
     "metadata": {},
     "output_type": "execute_result"
    }
   ],
   "source": [
    "params"
   ]
  },
  {
   "cell_type": "code",
   "execution_count": 35,
   "id": "97ea7e17-a19d-495e-ab74-96363832d632",
   "metadata": {},
   "outputs": [
    {
     "data": {
      "text/plain": [
       "<tf.Tensor: shape=(), dtype=float32, numpy=1.8564429>"
      ]
     },
     "execution_count": 35,
     "metadata": {},
     "output_type": "execute_result"
    }
   ],
   "source": [
    "tf.norm(params)"
   ]
  },
  {
   "cell_type": "code",
   "execution_count": 36,
   "id": "3908229a-58bc-43ca-a559-f3059852b87b",
   "metadata": {},
   "outputs": [
    {
     "data": {
      "text/plain": [
       "<tf.Tensor: shape=(), dtype=float32, numpy=0.99999833>"
      ]
     },
     "execution_count": 36,
     "metadata": {},
     "output_type": "execute_result"
    }
   ],
   "source": [
    "tf.math.reduce_sum(params*np.array([[0],[1],[0]]))/tf.norm(params)"
   ]
  },
  {
   "cell_type": "code",
   "execution_count": 37,
   "id": "d765855f-7dd2-4ddd-979d-7344a1a78e13",
   "metadata": {},
   "outputs": [
    {
     "name": "stdout",
     "output_type": "stream",
     "text": [
      "Local cdn resources have problems on chrome/safari when used in jupyter-notebook. \n"
     ]
    },
    {
     "data": {
      "text/html": [
       "\n",
       "        <iframe\n",
       "            width=\"500px\"\n",
       "            height=\"500px\"\n",
       "            src=\"table2_final.html\"\n",
       "            frameborder=\"0\"\n",
       "            allowfullscreen\n",
       "            \n",
       "        ></iframe>\n",
       "        "
      ],
      "text/plain": [
       "<IPython.lib.display.IFrame at 0x3010cde50>"
      ]
     },
     "execution_count": 37,
     "metadata": {},
     "output_type": "execute_result"
    }
   ],
   "source": [
    "mapper=MapperComplex(colors=f.numpy(),filters=f.numpy(),resolutions=resolutions, gains=gain, clustering=kmeans)\n",
    "mapper.fit(vertices)\n",
    "nt=mapper.get_pyvis()\n",
    "nt.show('table2_final.html')"
   ]
  }
 ],
 "metadata": {
  "kernelspec": {
   "display_name": "Python 3 (ipykernel)",
   "language": "python",
   "name": "python3"
  },
  "language_info": {
   "codemirror_mode": {
    "name": "ipython",
    "version": 3
   },
   "file_extension": ".py",
   "mimetype": "text/x-python",
   "name": "python",
   "nbconvert_exporter": "python",
   "pygments_lexer": "ipython3",
   "version": "3.9.13"
  }
 },
 "nbformat": 4,
 "nbformat_minor": 5
}
