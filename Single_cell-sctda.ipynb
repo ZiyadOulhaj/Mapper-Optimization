{
 "cells": [
  {
   "cell_type": "code",
   "execution_count": 1,
   "id": "3cf11441-e763-4b8b-aaaf-e1d5af56308b",
   "metadata": {},
   "outputs": [],
   "source": [
    "import matplotlib.pyplot as plt\n",
    "import numpy as np\n",
    "import pandas as pd\n",
    "import tensorflow as tf\n",
    "import meshplot as mp\n",
    "import gudhi                 as gd\n",
    "from tqdm                    import tqdm\n",
    "from sklearn.cluster import KMeans, AgglomerativeClustering\n",
    "from mapper import MapperComplex\n",
    "from SoftMapper import smooth_scheme, compute_mapper, filter_extended_st\n",
    "from joblib import Parallel, delayed\n",
    "import seaborn as sns\n",
    "import matplotlib.cm as cm\n",
    "%matplotlib inline\n",
    "from scipy.spatial.distance import directed_hausdorff\n",
    "from scipy.stats import bernoulli"
   ]
  },
  {
   "cell_type": "markdown",
   "id": "efacd7d7-a388-4ae2-8d9d-fda2ef0f999e",
   "metadata": {
    "jp-MarkdownHeadingCollapsed": true,
    "tags": []
   },
   "source": [
    "## Import data"
   ]
  },
  {
   "cell_type": "code",
   "execution_count": 2,
   "id": "03cf63a6-3c15-4af2-8d82-107e077b93b4",
   "metadata": {},
   "outputs": [],
   "source": [
    "files = []\n",
    "cells = []\n",
    "libs = []\n",
    "days = []\n",
    "with open(r'Datasets/scTDA Tutorial/data.txt', 'r') as f:\n",
    "    for line in f:\n",
    "        sp = line[:-1].split('\\t')\n",
    "        files.append(sp[0])\n",
    "        cells.append(int(sp[1]))\n",
    "        libs.append(sp[2])\n",
    "        days.append(int(sp[3]))"
   ]
  },
  {
   "cell_type": "code",
   "execution_count": 3,
   "id": "9b9b107c-5603-4d83-91be-9b628900cf16",
   "metadata": {},
   "outputs": [],
   "source": [
    "time=[]\n",
    "dfs=[]\n",
    "for i in range(len(files)):\n",
    "    f=files[i]\n",
    "    dfs.append(pd.read_csv(r\"Datasets/scTDA Tutorial/\"+f,sep=\"\\t\",header=None,index_col=0))\n",
    "    time=time+[days[i]]*dfs[i].shape[1]\n",
    "df=(pd.concat(dfs,axis=1)).transpose()"
   ]
  },
  {
   "cell_type": "markdown",
   "id": "c1d79926-2ad6-4508-a2f3-c968a0f879fa",
   "metadata": {
    "jp-MarkdownHeadingCollapsed": true,
    "tags": []
   },
   "source": [
    "## Preprocessed data using Seurat in R"
   ]
  },
  {
   "cell_type": "code",
   "execution_count": 4,
   "id": "3094adb1-65a6-4f06-9ae0-7513756a7848",
   "metadata": {},
   "outputs": [
    {
     "data": {
      "text/html": [
       "<div>\n",
       "<style scoped>\n",
       "    .dataframe tbody tr th:only-of-type {\n",
       "        vertical-align: middle;\n",
       "    }\n",
       "\n",
       "    .dataframe tbody tr th {\n",
       "        vertical-align: top;\n",
       "    }\n",
       "\n",
       "    .dataframe thead th {\n",
       "        text-align: right;\n",
       "    }\n",
       "</style>\n",
       "<table border=\"1\" class=\"dataframe\">\n",
       "  <thead>\n",
       "    <tr style=\"text-align: right;\">\n",
       "      <th></th>\n",
       "      <th>A1BG</th>\n",
       "      <th>A1BG.AS1</th>\n",
       "      <th>A1CF</th>\n",
       "      <th>A2M</th>\n",
       "      <th>A2M.AS1</th>\n",
       "      <th>A2ML1</th>\n",
       "      <th>A2MP1</th>\n",
       "      <th>A3GALT2</th>\n",
       "      <th>A4GALT</th>\n",
       "      <th>A4GNT</th>\n",
       "      <th>...</th>\n",
       "      <th>ERCC.00077</th>\n",
       "      <th>ERCC.00069</th>\n",
       "      <th>ERCC.00137</th>\n",
       "      <th>ERCC.00013</th>\n",
       "      <th>ERCC.00168</th>\n",
       "      <th>ERCC.00041</th>\n",
       "      <th>ERCC.00081</th>\n",
       "      <th>ERCC.00086</th>\n",
       "      <th>ERCC.00061</th>\n",
       "      <th>ERCC.00048</th>\n",
       "    </tr>\n",
       "  </thead>\n",
       "  <tbody>\n",
       "    <tr>\n",
       "      <th>X1</th>\n",
       "      <td>0.000000</td>\n",
       "      <td>0.0</td>\n",
       "      <td>0.000000</td>\n",
       "      <td>0.0</td>\n",
       "      <td>0.0</td>\n",
       "      <td>0.000000</td>\n",
       "      <td>0.0</td>\n",
       "      <td>0.000000</td>\n",
       "      <td>0.002751</td>\n",
       "      <td>0.0</td>\n",
       "      <td>...</td>\n",
       "      <td>0.000000</td>\n",
       "      <td>0.000000</td>\n",
       "      <td>0.019099</td>\n",
       "      <td>0.0</td>\n",
       "      <td>0.002751</td>\n",
       "      <td>0.0</td>\n",
       "      <td>0.0</td>\n",
       "      <td>0.000000</td>\n",
       "      <td>0.0</td>\n",
       "      <td>0.002751</td>\n",
       "    </tr>\n",
       "    <tr>\n",
       "      <th>X2</th>\n",
       "      <td>0.229183</td>\n",
       "      <td>0.0</td>\n",
       "      <td>0.000000</td>\n",
       "      <td>0.0</td>\n",
       "      <td>0.0</td>\n",
       "      <td>0.034521</td>\n",
       "      <td>0.0</td>\n",
       "      <td>0.000000</td>\n",
       "      <td>0.200856</td>\n",
       "      <td>0.0</td>\n",
       "      <td>...</td>\n",
       "      <td>0.000000</td>\n",
       "      <td>0.000000</td>\n",
       "      <td>0.000000</td>\n",
       "      <td>0.0</td>\n",
       "      <td>0.000000</td>\n",
       "      <td>0.0</td>\n",
       "      <td>0.0</td>\n",
       "      <td>0.000000</td>\n",
       "      <td>0.0</td>\n",
       "      <td>0.011640</td>\n",
       "    </tr>\n",
       "    <tr>\n",
       "      <th>X3</th>\n",
       "      <td>0.000000</td>\n",
       "      <td>0.0</td>\n",
       "      <td>0.000000</td>\n",
       "      <td>0.0</td>\n",
       "      <td>0.0</td>\n",
       "      <td>0.000000</td>\n",
       "      <td>0.0</td>\n",
       "      <td>0.000000</td>\n",
       "      <td>0.369155</td>\n",
       "      <td>0.0</td>\n",
       "      <td>...</td>\n",
       "      <td>0.001659</td>\n",
       "      <td>0.000000</td>\n",
       "      <td>0.008265</td>\n",
       "      <td>0.0</td>\n",
       "      <td>0.001659</td>\n",
       "      <td>0.0</td>\n",
       "      <td>0.0</td>\n",
       "      <td>0.000000</td>\n",
       "      <td>0.0</td>\n",
       "      <td>0.000000</td>\n",
       "    </tr>\n",
       "    <tr>\n",
       "      <th>X4</th>\n",
       "      <td>0.000000</td>\n",
       "      <td>0.0</td>\n",
       "      <td>0.000000</td>\n",
       "      <td>0.0</td>\n",
       "      <td>0.0</td>\n",
       "      <td>0.000000</td>\n",
       "      <td>0.0</td>\n",
       "      <td>0.000000</td>\n",
       "      <td>0.224096</td>\n",
       "      <td>0.0</td>\n",
       "      <td>...</td>\n",
       "      <td>0.001673</td>\n",
       "      <td>0.000000</td>\n",
       "      <td>0.014959</td>\n",
       "      <td>0.0</td>\n",
       "      <td>0.000000</td>\n",
       "      <td>0.0</td>\n",
       "      <td>0.0</td>\n",
       "      <td>0.005011</td>\n",
       "      <td>0.0</td>\n",
       "      <td>0.001673</td>\n",
       "    </tr>\n",
       "    <tr>\n",
       "      <th>X5</th>\n",
       "      <td>0.000000</td>\n",
       "      <td>0.0</td>\n",
       "      <td>0.014144</td>\n",
       "      <td>0.0</td>\n",
       "      <td>0.0</td>\n",
       "      <td>0.167884</td>\n",
       "      <td>0.0</td>\n",
       "      <td>0.000000</td>\n",
       "      <td>0.206598</td>\n",
       "      <td>0.0</td>\n",
       "      <td>...</td>\n",
       "      <td>0.000791</td>\n",
       "      <td>0.000000</td>\n",
       "      <td>0.003949</td>\n",
       "      <td>0.0</td>\n",
       "      <td>0.000000</td>\n",
       "      <td>0.0</td>\n",
       "      <td>0.0</td>\n",
       "      <td>0.000000</td>\n",
       "      <td>0.0</td>\n",
       "      <td>0.002371</td>\n",
       "    </tr>\n",
       "    <tr>\n",
       "      <th>...</th>\n",
       "      <td>...</td>\n",
       "      <td>...</td>\n",
       "      <td>...</td>\n",
       "      <td>...</td>\n",
       "      <td>...</td>\n",
       "      <td>...</td>\n",
       "      <td>...</td>\n",
       "      <td>...</td>\n",
       "      <td>...</td>\n",
       "      <td>...</td>\n",
       "      <td>...</td>\n",
       "      <td>...</td>\n",
       "      <td>...</td>\n",
       "      <td>...</td>\n",
       "      <td>...</td>\n",
       "      <td>...</td>\n",
       "      <td>...</td>\n",
       "      <td>...</td>\n",
       "      <td>...</td>\n",
       "      <td>...</td>\n",
       "      <td>...</td>\n",
       "    </tr>\n",
       "    <tr>\n",
       "      <th>X1525</th>\n",
       "      <td>0.000000</td>\n",
       "      <td>0.0</td>\n",
       "      <td>0.000000</td>\n",
       "      <td>0.0</td>\n",
       "      <td>0.0</td>\n",
       "      <td>0.000000</td>\n",
       "      <td>0.0</td>\n",
       "      <td>0.000000</td>\n",
       "      <td>1.696310</td>\n",
       "      <td>0.0</td>\n",
       "      <td>...</td>\n",
       "      <td>0.000000</td>\n",
       "      <td>0.000000</td>\n",
       "      <td>0.008169</td>\n",
       "      <td>0.0</td>\n",
       "      <td>0.000000</td>\n",
       "      <td>0.0</td>\n",
       "      <td>0.0</td>\n",
       "      <td>0.000000</td>\n",
       "      <td>0.0</td>\n",
       "      <td>0.000000</td>\n",
       "    </tr>\n",
       "    <tr>\n",
       "      <th>X1526</th>\n",
       "      <td>0.104591</td>\n",
       "      <td>0.0</td>\n",
       "      <td>0.000000</td>\n",
       "      <td>0.0</td>\n",
       "      <td>0.0</td>\n",
       "      <td>0.070929</td>\n",
       "      <td>0.0</td>\n",
       "      <td>0.000000</td>\n",
       "      <td>1.265936</td>\n",
       "      <td>0.0</td>\n",
       "      <td>...</td>\n",
       "      <td>0.000000</td>\n",
       "      <td>0.005237</td>\n",
       "      <td>0.000000</td>\n",
       "      <td>0.0</td>\n",
       "      <td>0.000000</td>\n",
       "      <td>0.0</td>\n",
       "      <td>0.0</td>\n",
       "      <td>0.000000</td>\n",
       "      <td>0.0</td>\n",
       "      <td>0.000000</td>\n",
       "    </tr>\n",
       "    <tr>\n",
       "      <th>X1527</th>\n",
       "      <td>0.000000</td>\n",
       "      <td>0.0</td>\n",
       "      <td>0.000000</td>\n",
       "      <td>0.0</td>\n",
       "      <td>0.0</td>\n",
       "      <td>0.000000</td>\n",
       "      <td>0.0</td>\n",
       "      <td>0.000000</td>\n",
       "      <td>1.374573</td>\n",
       "      <td>0.0</td>\n",
       "      <td>...</td>\n",
       "      <td>0.000000</td>\n",
       "      <td>0.000000</td>\n",
       "      <td>0.000000</td>\n",
       "      <td>0.0</td>\n",
       "      <td>0.000000</td>\n",
       "      <td>0.0</td>\n",
       "      <td>0.0</td>\n",
       "      <td>0.000000</td>\n",
       "      <td>0.0</td>\n",
       "      <td>0.000000</td>\n",
       "    </tr>\n",
       "    <tr>\n",
       "      <th>X1528</th>\n",
       "      <td>0.084294</td>\n",
       "      <td>0.0</td>\n",
       "      <td>0.006262</td>\n",
       "      <td>0.0</td>\n",
       "      <td>0.0</td>\n",
       "      <td>0.000000</td>\n",
       "      <td>0.0</td>\n",
       "      <td>0.066819</td>\n",
       "      <td>1.258203</td>\n",
       "      <td>0.0</td>\n",
       "      <td>...</td>\n",
       "      <td>0.018671</td>\n",
       "      <td>0.000000</td>\n",
       "      <td>0.012486</td>\n",
       "      <td>0.0</td>\n",
       "      <td>0.000000</td>\n",
       "      <td>0.0</td>\n",
       "      <td>0.0</td>\n",
       "      <td>0.000000</td>\n",
       "      <td>0.0</td>\n",
       "      <td>0.000000</td>\n",
       "    </tr>\n",
       "    <tr>\n",
       "      <th>X1529</th>\n",
       "      <td>0.000000</td>\n",
       "      <td>0.0</td>\n",
       "      <td>0.000000</td>\n",
       "      <td>0.0</td>\n",
       "      <td>0.0</td>\n",
       "      <td>0.000000</td>\n",
       "      <td>0.0</td>\n",
       "      <td>0.000000</td>\n",
       "      <td>1.182386</td>\n",
       "      <td>0.0</td>\n",
       "      <td>...</td>\n",
       "      <td>0.000000</td>\n",
       "      <td>0.000000</td>\n",
       "      <td>0.010766</td>\n",
       "      <td>0.0</td>\n",
       "      <td>0.000000</td>\n",
       "      <td>0.0</td>\n",
       "      <td>0.0</td>\n",
       "      <td>0.000000</td>\n",
       "      <td>0.0</td>\n",
       "      <td>0.000000</td>\n",
       "    </tr>\n",
       "  </tbody>\n",
       "</table>\n",
       "<p>1529 rows × 26270 columns</p>\n",
       "</div>"
      ],
      "text/plain": [
       "           A1BG  A1BG.AS1      A1CF  A2M  A2M.AS1     A2ML1  A2MP1   A3GALT2  \\\n",
       "X1     0.000000       0.0  0.000000  0.0      0.0  0.000000    0.0  0.000000   \n",
       "X2     0.229183       0.0  0.000000  0.0      0.0  0.034521    0.0  0.000000   \n",
       "X3     0.000000       0.0  0.000000  0.0      0.0  0.000000    0.0  0.000000   \n",
       "X4     0.000000       0.0  0.000000  0.0      0.0  0.000000    0.0  0.000000   \n",
       "X5     0.000000       0.0  0.014144  0.0      0.0  0.167884    0.0  0.000000   \n",
       "...         ...       ...       ...  ...      ...       ...    ...       ...   \n",
       "X1525  0.000000       0.0  0.000000  0.0      0.0  0.000000    0.0  0.000000   \n",
       "X1526  0.104591       0.0  0.000000  0.0      0.0  0.070929    0.0  0.000000   \n",
       "X1527  0.000000       0.0  0.000000  0.0      0.0  0.000000    0.0  0.000000   \n",
       "X1528  0.084294       0.0  0.006262  0.0      0.0  0.000000    0.0  0.066819   \n",
       "X1529  0.000000       0.0  0.000000  0.0      0.0  0.000000    0.0  0.000000   \n",
       "\n",
       "         A4GALT  A4GNT  ...  ERCC.00077  ERCC.00069  ERCC.00137  ERCC.00013  \\\n",
       "X1     0.002751    0.0  ...    0.000000    0.000000    0.019099         0.0   \n",
       "X2     0.200856    0.0  ...    0.000000    0.000000    0.000000         0.0   \n",
       "X3     0.369155    0.0  ...    0.001659    0.000000    0.008265         0.0   \n",
       "X4     0.224096    0.0  ...    0.001673    0.000000    0.014959         0.0   \n",
       "X5     0.206598    0.0  ...    0.000791    0.000000    0.003949         0.0   \n",
       "...         ...    ...  ...         ...         ...         ...         ...   \n",
       "X1525  1.696310    0.0  ...    0.000000    0.000000    0.008169         0.0   \n",
       "X1526  1.265936    0.0  ...    0.000000    0.005237    0.000000         0.0   \n",
       "X1527  1.374573    0.0  ...    0.000000    0.000000    0.000000         0.0   \n",
       "X1528  1.258203    0.0  ...    0.018671    0.000000    0.012486         0.0   \n",
       "X1529  1.182386    0.0  ...    0.000000    0.000000    0.010766         0.0   \n",
       "\n",
       "       ERCC.00168  ERCC.00041  ERCC.00081  ERCC.00086  ERCC.00061  ERCC.00048  \n",
       "X1       0.002751         0.0         0.0    0.000000         0.0    0.002751  \n",
       "X2       0.000000         0.0         0.0    0.000000         0.0    0.011640  \n",
       "X3       0.001659         0.0         0.0    0.000000         0.0    0.000000  \n",
       "X4       0.000000         0.0         0.0    0.005011         0.0    0.001673  \n",
       "X5       0.000000         0.0         0.0    0.000000         0.0    0.002371  \n",
       "...           ...         ...         ...         ...         ...         ...  \n",
       "X1525    0.000000         0.0         0.0    0.000000         0.0    0.000000  \n",
       "X1526    0.000000         0.0         0.0    0.000000         0.0    0.000000  \n",
       "X1527    0.000000         0.0         0.0    0.000000         0.0    0.000000  \n",
       "X1528    0.000000         0.0         0.0    0.000000         0.0    0.000000  \n",
       "X1529    0.000000         0.0         0.0    0.000000         0.0    0.000000  \n",
       "\n",
       "[1529 rows x 26270 columns]"
      ]
     },
     "execution_count": 4,
     "metadata": {},
     "output_type": "execute_result"
    }
   ],
   "source": [
    "dfn=pd.read_csv(r\"Datasets/seurat_normalized.csv\",index_col=0).transpose()\n",
    "dfn"
   ]
  },
  {
   "cell_type": "code",
   "execution_count": 5,
   "id": "0cc0ad8e-3e58-4fac-ae42-0e4b0856a7b5",
   "metadata": {},
   "outputs": [],
   "source": [
    "X=np.array(dfn)\n",
    "(n,p)=X.shape"
   ]
  },
  {
   "cell_type": "markdown",
   "id": "fb604782-0d03-4b6e-8d46-ffc181989d8c",
   "metadata": {
    "tags": []
   },
   "source": [
    "## Linear filter Optimization"
   ]
  },
  {
   "cell_type": "code",
   "execution_count": 6,
   "id": "3de5628d-62b0-40e6-8e85-e11a41e618a9",
   "metadata": {},
   "outputs": [],
   "source": [
    "np.random.seed(1)\n",
    "subset=np.random.randint(low=0,high=len(time),size=500)\n",
    "delta=np.max([directed_hausdorff(X,X[subset,:]),directed_hausdorff(X[subset,:],X)])"
   ]
  },
  {
   "cell_type": "code",
   "execution_count": 7,
   "id": "1a6e3d84-3148-426d-887f-3465dd3f2fd6",
   "metadata": {},
   "outputs": [
    {
     "data": {
      "text/plain": [
       "1452.0"
      ]
     },
     "execution_count": 7,
     "metadata": {},
     "output_type": "execute_result"
    }
   ],
   "source": [
    "delta"
   ]
  },
  {
   "cell_type": "code",
   "execution_count": 8,
   "id": "a2b6200d-a958-48f4-b492-f33bf1767b57",
   "metadata": {},
   "outputs": [
    {
     "data": {
      "text/plain": [
       "(1529, 26270)"
      ]
     },
     "execution_count": 8,
     "metadata": {},
     "output_type": "execute_result"
    }
   ],
   "source": [
    "X.shape"
   ]
  },
  {
   "cell_type": "code",
   "execution_count": 9,
   "id": "25bc103b-d32b-4688-8072-d4b06ca8ba6a",
   "metadata": {},
   "outputs": [
    {
     "name": "stderr",
     "output_type": "stream",
     "text": [
      "2024-02-09 10:56:32.100777: I metal_plugin/src/device/metal_device.cc:1154] Metal device set to: Apple M2\n",
      "2024-02-09 10:56:32.100877: I metal_plugin/src/device/metal_device.cc:296] systemMemory: 8.00 GB\n",
      "2024-02-09 10:56:32.100916: I metal_plugin/src/device/metal_device.cc:313] maxCacheSize: 2.67 GB\n",
      "2024-02-09 10:56:32.101037: I tensorflow/core/common_runtime/pluggable_device/pluggable_device_factory.cc:306] Could not identify NUMA node of platform GPU ID 0, defaulting to 0. Your kernel may not have been built with NUMA support.\n",
      "2024-02-09 10:56:32.101330: I tensorflow/core/common_runtime/pluggable_device/pluggable_device_factory.cc:272] Created TensorFlow device (/job:localhost/replica:0/task:0/device:GPU:0 with 0 MB memory) -> physical PluggableDevice (device: 0, name: METAL, pci bus id: <undefined>)\n"
     ]
    }
   ],
   "source": [
    "\n",
    "resolutions=np.array([25])\n",
    "gain=np.array([0.3])\n",
    "sigma=1e-5\n",
    "\n",
    "ag=AgglomerativeClustering(n_clusters=None,distance_threshold=8e-2*delta)\n",
    "\n",
    "params=tf.Variable(initial_value=np.ones((p,1)).astype(np.float32)/np.sqrt(p),trainable=True)\n",
    "\n",
    "lr = tf.keras.optimizers.schedules.InverseTimeDecay(initial_learning_rate=5e-4, decay_steps=10, decay_rate=1)\n",
    "optimizer = tf.keras.optimizers.legacy.SGD(learning_rate=lr)"
   ]
  },
  {
   "cell_type": "code",
   "execution_count": 10,
   "id": "a4de2b05-47d8-4830-bdef-62781572ad31",
   "metadata": {},
   "outputs": [
    {
     "name": "stdout",
     "output_type": "stream",
     "text": [
      "Local cdn resources have problems on chrome/safari when used in jupyter-notebook. \n"
     ]
    },
    {
     "data": {
      "text/html": [
       "\n",
       "        <iframe\n",
       "            width=\"500px\"\n",
       "            height=\"500px\"\n",
       "            src=\"sctda_initial.html\"\n",
       "            frameborder=\"0\"\n",
       "            allowfullscreen\n",
       "            \n",
       "        ></iframe>\n",
       "        "
      ],
      "text/plain": [
       "<IPython.lib.display.IFrame at 0x29f552b20>"
      ]
     },
     "execution_count": 10,
     "metadata": {},
     "output_type": "execute_result"
    }
   ],
   "source": [
    "f=tf.tensordot(X.astype(np.float32),params,axes=1)\n",
    "mapper=MapperComplex(colors=np.array(time).reshape((-1,1)),filters=f.numpy(),resolutions=resolutions, gains=gain, clustering=ag)\n",
    "mapper.fit(X)\n",
    "nt=mapper.get_pyvis()\n",
    "nt.show('sctda_initial.html')"
   ]
  },
  {
   "cell_type": "code",
   "execution_count": 11,
   "id": "02f69988-3d9f-408c-ba33-f01b6b4d9c92",
   "metadata": {},
   "outputs": [
    {
     "data": {
      "image/png": "[encoded data removed]",
      "text/plain": [
       "<Figure size 558.875x500 with 1 Axes>"
      ]
     },
     "metadata": {},
     "output_type": "display_data"
    }
   ],
   "source": [
    "dff=pd.DataFrame(list(zip(time, list(f.numpy().ravel()))),columns =['time', 'filter'])\n",
    "ax = sns.displot(dff, x=\"filter\", hue=\"time\", kind=\"kde\",palette=cm.viridis)\n",
    "ax.set(xlabel=None,ylabel=None)\n",
    "sns.move_legend(ax, \"lower center\", bbox_to_anchor=(.5, 0), ncol=5, title=None, frameon=False)\n",
    "plt.savefig('sctda_densities_initial.png')"
   ]
  },
  {
   "cell_type": "code",
   "execution_count": 12,
   "id": "32c4721c-990b-4032-a86d-9a0ef26def7e",
   "metadata": {},
   "outputs": [
    {
     "name": "stderr",
     "output_type": "stream",
     "text": [
      "100%|█████████████████████████████████████████| 201/201 [27:31<00:00,  8.22s/it]\n"
     ]
    }
   ],
   "source": [
    "losses = []\n",
    "K=10\n",
    "with Parallel(n_jobs=-1) as parallel:\n",
    "    for epoch in tqdm(range(200+1)):\n",
    "\n",
    "        f=tf.tensordot(X.astype(np.float32),params,axes=1)\n",
    "        fn=(f-tf.math.reduce_min(f))/(tf.math.reduce_max(f)-tf.math.reduce_min(f))\n",
    "        scheme=smooth_scheme(fn.numpy(),resolutions,gain,sigma)\n",
    "\n",
    "        upscheme=np.repeat(scheme,K,axis=0)\n",
    "\n",
    "        assignments=bernoulli.rvs(upscheme,random_state=0)\n",
    "\n",
    "        st,clusters=compute_mapper(X,ag,assignments,maximum=5)\n",
    "        \n",
    "        with tf.GradientTape() as tape:\n",
    "            f=tf.tensordot(X.astype(np.float32),params,axes=1)\n",
    "            f_values=tf.repeat(tf.expand_dims(f,axis=0),clusters.shape[0],axis=0)\n",
    "\n",
    "            f_values=tf.repeat(f_values,clusters.shape[2],axis=2)\n",
    "\n",
    "            filtration=tf.math.reduce_sum(f_values*clusters,axis=1)/(np.sum(clusters,axis=1)+1e-10)\n",
    "            #l=[(_LowerStarSimplexTree(st[k],filtration[k],[0],11,False)[0][0]).reshape(-1,2) for k in range(n)]\n",
    "            l=parallel(delayed(filter_extended_st)(list(st[k].get_skeleton(1)),filtration.numpy()[k]) \n",
    "                for k in range(K))\n",
    "            loss=0\n",
    "            \n",
    "            #dgm=tf.concat([tf.gather(filtration[k],l[k]) for k in range(K)],axis=0)\n",
    "            for k in range(K):\n",
    "                dgm=tf.gather(filtration[k],l[k]) \n",
    "                loss=loss-tf.math.reduce_sum(tf.math.abs((dgm[:,1]-dgm[:,0])))/K\n",
    "\n",
    "            regularization = tf.math.square(tf.norm(params)-1)\n",
    "\n",
    "            loss=loss+regularization\n",
    "\n",
    "        gradients = tape.gradient(loss, [params])\n",
    "        \n",
    "        optimizer.apply_gradients(zip(gradients, [params]))\n",
    "\n",
    "\n",
    "        losses.append(loss.numpy())"
   ]
  },
  {
   "cell_type": "code",
   "execution_count": 13,
   "id": "a3418262-52f4-43af-91a4-acc78501b49a",
   "metadata": {},
   "outputs": [
    {
     "data": {
      "image/png": "[encoded data removed]",
      "text/plain": [
       "<Figure size 640x480 with 1 Axes>"
      ]
     },
     "metadata": {},
     "output_type": "display_data"
    }
   ],
   "source": [
    "plt.figure()\n",
    "plt.plot(losses)\n",
    "plt.xlabel('Epochs')\n",
    "plt.ylabel('Loss')\n",
    "plt.show()"
   ]
  },
  {
   "cell_type": "code",
   "execution_count": 14,
   "id": "be3a09bc-d46e-42aa-9047-1a1aa91130a4",
   "metadata": {},
   "outputs": [
    {
     "data": {
      "text/plain": [
       "<tf.Tensor: shape=(), dtype=float32, numpy=1.9762846>"
      ]
     },
     "execution_count": 14,
     "metadata": {},
     "output_type": "execute_result"
    }
   ],
   "source": [
    "tf.norm(params)"
   ]
  },
  {
   "cell_type": "code",
   "execution_count": 15,
   "id": "617c15bd-f7f2-4d60-8665-d6ad4e643da4",
   "metadata": {},
   "outputs": [
    {
     "name": "stdout",
     "output_type": "stream",
     "text": [
      "Local cdn resources have problems on chrome/safari when used in jupyter-notebook. \n"
     ]
    },
    {
     "data": {
      "text/html": [
       "\n",
       "        <iframe\n",
       "            width=\"500px\"\n",
       "            height=\"500px\"\n",
       "            src=\"sctda_final.html\"\n",
       "            frameborder=\"0\"\n",
       "            allowfullscreen\n",
       "            \n",
       "        ></iframe>\n",
       "        "
      ],
      "text/plain": [
       "<IPython.lib.display.IFrame at 0x2ef0e5be0>"
      ]
     },
     "execution_count": 15,
     "metadata": {},
     "output_type": "execute_result"
    }
   ],
   "source": [
    "mapper=MapperComplex(colors=np.array(time).reshape((-1,1)),filters=f.numpy(),resolutions=resolutions, gains=gain, clustering=ag)\n",
    "mapper.fit(X)\n",
    "nt=mapper.get_pyvis()\n",
    "nt.show('sctda_final.html')"
   ]
  },
  {
   "cell_type": "code",
   "execution_count": 16,
   "id": "be3f97e8-7ecc-4c26-b0c6-0d52b121d808",
   "metadata": {},
   "outputs": [
    {
     "data": {
      "image/png": "[encoded data removed]",
      "text/plain": [
       "<Figure size 558.875x500 with 1 Axes>"
      ]
     },
     "metadata": {},
     "output_type": "display_data"
    }
   ],
   "source": [
    "dff=pd.DataFrame(list(zip(time, list(f.numpy().ravel()))),columns =['time', 'filter'])\n",
    "ax = sns.displot(dff, x=\"filter\", hue=\"time\", kind=\"kde\",palette=cm.viridis)\n",
    "ax.set(xlabel=None,ylabel=None)\n",
    "sns.move_legend(ax, \"lower center\", bbox_to_anchor=(.5, 0), ncol=5, title=None, frameon=False)\n",
    "plt.savefig('sctda_densities_final.png')"
   ]
  },
  {
   "cell_type": "code",
   "execution_count": 17,
   "id": "2fefd907-e885-4cd0-8f99-e2b77349bb13",
   "metadata": {},
   "outputs": [
    {
     "data": {
      "text/plain": [
       "PearsonRResult(statistic=0.13308881265698216, pvalue=1.759614277509779e-07)"
      ]
     },
     "execution_count": 17,
     "metadata": {},
     "output_type": "execute_result"
    }
   ],
   "source": [
    "from scipy.stats import pearsonr\n",
    "initialparams=tf.Variable(initial_value=np.ones((p,1)).astype(np.float32)/np.sqrt(p),trainable=True)\n",
    "fi=tf.tensordot(X.astype(np.float32),initialparams,axes=1)\n",
    "pearsonr(fi.numpy()[:,0],time)"
   ]
  },
  {
   "cell_type": "code",
   "execution_count": 18,
   "id": "6f1fe122-719a-44a7-a871-e3f0bf2ba49e",
   "metadata": {},
   "outputs": [
    {
     "data": {
      "text/plain": [
       "PearsonRResult(statistic=-0.7517116728368803, pvalue=2.3255737887446518e-278)"
      ]
     },
     "execution_count": 18,
     "metadata": {},
     "output_type": "execute_result"
    }
   ],
   "source": [
    "pearsonr(f.numpy()[:,0],time)"
   ]
  },
  {
   "cell_type": "code",
   "execution_count": 19,
   "id": "714d08dc-a17e-4cec-bbb0-e3eb7bb530cb",
   "metadata": {},
   "outputs": [
    {
     "name": "stdout",
     "output_type": "stream",
     "text": [
      "Local cdn resources have problems on chrome/safari when used in jupyter-notebook. \n"
     ]
    },
    {
     "data": {
      "text/html": [
       "\n",
       "        <iframe\n",
       "            width=\"500px\"\n",
       "            height=\"500px\"\n",
       "            src=\"sctda_gene1.html\"\n",
       "            frameborder=\"0\"\n",
       "            allowfullscreen\n",
       "            \n",
       "        ></iframe>\n",
       "        "
      ],
      "text/plain": [
       "<IPython.lib.display.IFrame at 0x2ef532bb0>"
      ]
     },
     "execution_count": 19,
     "metadata": {},
     "output_type": "execute_result"
    }
   ],
   "source": [
    "mapper=MapperComplex(colors=np.array(dfn['HTR3E']).reshape((-1,1)),filters=f.numpy(),resolutions=resolutions, gains=gain, clustering=ag)\n",
    "mapper.fit(X)\n",
    "nt=mapper.get_pyvis(cmap=cm.hot)\n",
    "nt.show('sctda_gene1.html')"
   ]
  },
  {
   "cell_type": "code",
   "execution_count": 20,
   "id": "ec2b57a5-e639-4d49-afee-26fe666e66d7",
   "metadata": {},
   "outputs": [
    {
     "name": "stdout",
     "output_type": "stream",
     "text": [
      "Local cdn resources have problems on chrome/safari when used in jupyter-notebook. \n"
     ]
    },
    {
     "data": {
      "text/html": [
       "\n",
       "        <iframe\n",
       "            width=\"500px\"\n",
       "            height=\"500px\"\n",
       "            src=\"sctda_gene2.html\"\n",
       "            frameborder=\"0\"\n",
       "            allowfullscreen\n",
       "            \n",
       "        ></iframe>\n",
       "        "
      ],
      "text/plain": [
       "<IPython.lib.display.IFrame at 0x2a1be2a30>"
      ]
     },
     "execution_count": 20,
     "metadata": {},
     "output_type": "execute_result"
    }
   ],
   "source": [
    "mapper=MapperComplex(colors=np.array(dfn['CDX1']).reshape((-1,1)),filters=f.numpy(),resolutions=resolutions, gains=gain, clustering=ag)\n",
    "mapper.fit(X)\n",
    "nt=mapper.get_pyvis(cmap=cm.hot)\n",
    "nt.show('sctda_gene2.html')"
   ]
  }
 ],
 "metadata": {
  "kernelspec": {
   "display_name": "Python 3 (ipykernel)",
   "language": "python",
   "name": "python3"
  },
  "language_info": {
   "codemirror_mode": {
    "name": "ipython",
    "version": 3
   },
   "file_extension": ".py",
   "mimetype": "text/x-python",
   "name": "python",
   "nbconvert_exporter": "python",
   "pygments_lexer": "ipython3",
   "version": "3.9.13"
  }
 },
 "nbformat": 4,
 "nbformat_minor": 5
}
