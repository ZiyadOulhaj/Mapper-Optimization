{
 "cells": [
  {
   "cell_type": "code",
   "execution_count": 1,
   "id": "3cf11441-e763-4b8b-aaaf-e1d5af56308b",
   "metadata": {},
   "outputs": [],
   "source": [
    "import matplotlib.pyplot as plt\n",
    "import numpy as np\n",
    "import pandas as pd\n",
    "import tensorflow as tf\n",
    "import meshplot as mp\n",
    "import gudhi                 as gd\n",
    "from tqdm                    import tqdm\n",
    "from sklearn.cluster import KMeans, AgglomerativeClustering\n",
    "from mapper import MapperComplex\n",
    "from SoftMapper import smooth_scheme, compute_mapper, filter_extended_st\n",
    "from joblib import Parallel, delayed\n",
    "import seaborn as sns\n",
    "import matplotlib.cm as cm\n",
    "%matplotlib inline\n",
    "from scipy.spatial.distance import directed_hausdorff\n",
    "from scipy.stats import bernoulli\n",
    "import matplotlib as mpl\n",
    "from pyvis.network import Network"
   ]
  },
  {
   "cell_type": "code",
   "execution_count": 2,
   "id": "9e25f5d8-9057-45ab-a205-80a92f1a1437",
   "metadata": {},
   "outputs": [],
   "source": [
    "import wot"
   ]
  },
  {
   "cell_type": "code",
   "execution_count": 3,
   "id": "88d7d757-29f3-4503-b1fc-12c4bc021c23",
   "metadata": {},
   "outputs": [],
   "source": [
    "data = wot.io.read_dataset(r\"Datasets/data/ExprMatrix.h5ad\")"
   ]
  },
  {
   "cell_type": "code",
   "execution_count": 4,
   "id": "b6be745b-53ec-4a6d-9100-25d6e55a2ca3",
   "metadata": {},
   "outputs": [
    {
     "data": {
      "text/html": [
       "<div>\n",
       "<style scoped>\n",
       "    .dataframe tbody tr th:only-of-type {\n",
       "        vertical-align: middle;\n",
       "    }\n",
       "\n",
       "    .dataframe tbody tr th {\n",
       "        vertical-align: top;\n",
       "    }\n",
       "\n",
       "    .dataframe thead th {\n",
       "        text-align: right;\n",
       "    }\n",
       "</style>\n",
       "<table border=\"1\" class=\"dataframe\">\n",
       "  <thead>\n",
       "    <tr style=\"text-align: right;\">\n",
       "      <th></th>\n",
       "      <th>day</th>\n",
       "    </tr>\n",
       "    <tr>\n",
       "      <th>id</th>\n",
       "      <th></th>\n",
       "    </tr>\n",
       "  </thead>\n",
       "  <tbody>\n",
       "    <tr>\n",
       "      <th>D0_Dox_C1_AAACCTGAGTATCTCG-1</th>\n",
       "      <td>0.0</td>\n",
       "    </tr>\n",
       "    <tr>\n",
       "      <th>D0_Dox_C1_AAACCTGCAAGCGAGT-1</th>\n",
       "      <td>0.0</td>\n",
       "    </tr>\n",
       "    <tr>\n",
       "      <th>D0_Dox_C1_AAACCTGGTCTCTTAT-1</th>\n",
       "      <td>0.0</td>\n",
       "    </tr>\n",
       "    <tr>\n",
       "      <th>D0_Dox_C1_AAACCTGTCAACACTG-1</th>\n",
       "      <td>0.0</td>\n",
       "    </tr>\n",
       "    <tr>\n",
       "      <th>D0_Dox_C1_AAACCTGTCGTTGCCT-1</th>\n",
       "      <td>0.0</td>\n",
       "    </tr>\n",
       "    <tr>\n",
       "      <th>...</th>\n",
       "      <td>...</td>\n",
       "    </tr>\n",
       "    <tr>\n",
       "      <th>D18_serum_C2_TTTGGTTTCTTATCTG-1</th>\n",
       "      <td>18.0</td>\n",
       "    </tr>\n",
       "    <tr>\n",
       "      <th>D18_serum_C2_TTTGTCAAGATTACCC-1</th>\n",
       "      <td>18.0</td>\n",
       "    </tr>\n",
       "    <tr>\n",
       "      <th>D18_serum_C2_TTTGTCAAGTGAACAT-1</th>\n",
       "      <td>18.0</td>\n",
       "    </tr>\n",
       "    <tr>\n",
       "      <th>D18_serum_C2_TTTGTCAGTATAAACG-1</th>\n",
       "      <td>18.0</td>\n",
       "    </tr>\n",
       "    <tr>\n",
       "      <th>D18_serum_C2_TTTGTCATCCGTAGTA-1</th>\n",
       "      <td>18.0</td>\n",
       "    </tr>\n",
       "  </tbody>\n",
       "</table>\n",
       "<p>236285 rows × 1 columns</p>\n",
       "</div>"
      ],
      "text/plain": [
       "                                  day\n",
       "id                                   \n",
       "D0_Dox_C1_AAACCTGAGTATCTCG-1      0.0\n",
       "D0_Dox_C1_AAACCTGCAAGCGAGT-1      0.0\n",
       "D0_Dox_C1_AAACCTGGTCTCTTAT-1      0.0\n",
       "D0_Dox_C1_AAACCTGTCAACACTG-1      0.0\n",
       "D0_Dox_C1_AAACCTGTCGTTGCCT-1      0.0\n",
       "...                               ...\n",
       "D18_serum_C2_TTTGGTTTCTTATCTG-1  18.0\n",
       "D18_serum_C2_TTTGTCAAGATTACCC-1  18.0\n",
       "D18_serum_C2_TTTGTCAAGTGAACAT-1  18.0\n",
       "D18_serum_C2_TTTGTCAGTATAAACG-1  18.0\n",
       "D18_serum_C2_TTTGTCATCCGTAGTA-1  18.0\n",
       "\n",
       "[236285 rows x 1 columns]"
      ]
     },
     "execution_count": 4,
     "metadata": {},
     "output_type": "execute_result"
    }
   ],
   "source": [
    "days_df = pd.read_csv(r\"Datasets/data/cell_days.txt\", index_col='id', sep='\\t')\n",
    "days_df"
   ]
  },
  {
   "cell_type": "code",
   "execution_count": 5,
   "id": "34ca2354-ba27-403a-bcf8-ee2e06779ccc",
   "metadata": {},
   "outputs": [],
   "source": [
    "names=list(days_df.index)\n",
    "\n",
    "labels=[name.split('_')[1] for name in names]\n",
    "\n",
    "x=data._X[:days_df.shape[0],:]"
   ]
  },
  {
   "cell_type": "code",
   "execution_count": 6,
   "id": "76ef8f2c-a05a-411c-b16a-d104f021276e",
   "metadata": {},
   "outputs": [
    {
     "data": {
      "text/plain": [
       "(236285, 19089)"
      ]
     },
     "execution_count": 6,
     "metadata": {},
     "output_type": "execute_result"
    }
   ],
   "source": [
    "x.shape"
   ]
  },
  {
   "cell_type": "code",
   "execution_count": 7,
   "id": "ccd33585-6a86-4ba3-ae2b-b35165264640",
   "metadata": {},
   "outputs": [],
   "source": [
    "# take a subsample of the data\n",
    "np.random.seed(0)\n",
    "subsample=np.random.choice(range(x.shape[0]), size=1500)\n",
    "X=x[subsample,:]"
   ]
  },
  {
   "cell_type": "code",
   "execution_count": 8,
   "id": "9adf17e8-f89f-4904-9974-9eab3b5ecee7",
   "metadata": {},
   "outputs": [],
   "source": [
    "# pre-process data\n",
    "B=np.repeat(np.sum(X,axis=1),x.shape[1],axis=1)\n",
    "\n",
    "X=np.log1p(X*10000/B)"
   ]
  },
  {
   "cell_type": "code",
   "execution_count": 9,
   "id": "d8aabe14-47f9-41de-9776-242ecb4954db",
   "metadata": {},
   "outputs": [],
   "source": [
    "time=list(np.array(days_df)[subsample,:].ravel())"
   ]
  },
  {
   "cell_type": "code",
   "execution_count": 10,
   "id": "eedade8a-1ab4-42c0-b740-ec671d681c7d",
   "metadata": {},
   "outputs": [],
   "source": [
    "labels=np.array(labels)[subsample]"
   ]
  },
  {
   "cell_type": "code",
   "execution_count": 11,
   "id": "970ee75e-c7a2-4b17-a8a1-ccf2369575e1",
   "metadata": {},
   "outputs": [],
   "source": [
    "n,p=X.shape"
   ]
  },
  {
   "cell_type": "code",
   "execution_count": 12,
   "id": "d58c9e7e-fa93-4018-a057-59c1e03995fc",
   "metadata": {},
   "outputs": [],
   "source": [
    "X=X.toarray()"
   ]
  },
  {
   "cell_type": "markdown",
   "id": "fb604782-0d03-4b6e-8d46-ffc181989d8c",
   "metadata": {
    "tags": []
   },
   "source": [
    "## Linear filter"
   ]
  },
  {
   "cell_type": "code",
   "execution_count": 13,
   "id": "3de5628d-62b0-40e6-8e85-e11a41e618a9",
   "metadata": {},
   "outputs": [],
   "source": [
    "np.random.seed(1)\n",
    "subset=np.random.randint(low=0,high=len(time),size=500)\n",
    "delta=np.max([directed_hausdorff(X,X[subset,:]),directed_hausdorff(X[subset,:],X)])"
   ]
  },
  {
   "cell_type": "code",
   "execution_count": 14,
   "id": "1a6e3d84-3148-426d-887f-3465dd3f2fd6",
   "metadata": {},
   "outputs": [
    {
     "data": {
      "text/plain": [
       "1320.0"
      ]
     },
     "execution_count": 14,
     "metadata": {},
     "output_type": "execute_result"
    }
   ],
   "source": [
    "delta"
   ]
  },
  {
   "cell_type": "code",
   "execution_count": 15,
   "id": "25bc103b-d32b-4688-8072-d4b06ca8ba6a",
   "metadata": {},
   "outputs": [
    {
     "name": "stderr",
     "output_type": "stream",
     "text": [
      "2024-02-08 16:16:07.037333: I metal_plugin/src/device/metal_device.cc:1154] Metal device set to: Apple M2\n",
      "2024-02-08 16:16:07.038365: I metal_plugin/src/device/metal_device.cc:296] systemMemory: 8.00 GB\n",
      "2024-02-08 16:16:07.038375: I metal_plugin/src/device/metal_device.cc:313] maxCacheSize: 2.67 GB\n",
      "2024-02-08 16:16:07.038617: I tensorflow/core/common_runtime/pluggable_device/pluggable_device_factory.cc:306] Could not identify NUMA node of platform GPU ID 0, defaulting to 0. Your kernel may not have been built with NUMA support.\n",
      "2024-02-08 16:16:07.039208: I tensorflow/core/common_runtime/pluggable_device/pluggable_device_factory.cc:272] Created TensorFlow device (/job:localhost/replica:0/task:0/device:GPU:0 with 0 MB memory) -> physical PluggableDevice (device: 0, name: METAL, pci bus id: <undefined>)\n"
     ]
    }
   ],
   "source": [
    "\n",
    "resolutions=np.array([25])\n",
    "gain=np.array([0.3])\n",
    "sigma=1e-5\n",
    "\n",
    "ag=AgglomerativeClustering(n_clusters=None,distance_threshold=1e-1*delta)\n",
    "\n",
    "params=tf.Variable(initial_value=np.ones((p,1)).astype(np.float32)/np.sqrt(p),trainable=True)\n",
    "\n",
    "lr = tf.keras.optimizers.schedules.InverseTimeDecay(initial_learning_rate=5e-2, decay_steps=10, decay_rate=0.1)\n",
    "optimizer = tf.keras.optimizers.legacy.SGD(learning_rate=lr)"
   ]
  },
  {
   "cell_type": "code",
   "execution_count": 16,
   "id": "a4de2b05-47d8-4830-bdef-62781572ad31",
   "metadata": {},
   "outputs": [
    {
     "name": "stdout",
     "output_type": "stream",
     "text": [
      "Local cdn resources have problems on chrome/safari when used in jupyter-notebook. \n"
     ]
    },
    {
     "data": {
      "text/html": [
       "\n",
       "        <iframe\n",
       "            width=\"500px\"\n",
       "            height=\"500px\"\n",
       "            src=\"sc_ot_initial.html\"\n",
       "            frameborder=\"0\"\n",
       "            allowfullscreen\n",
       "            \n",
       "        ></iframe>\n",
       "        "
      ],
      "text/plain": [
       "<IPython.lib.display.IFrame at 0x111b632b0>"
      ]
     },
     "execution_count": 16,
     "metadata": {},
     "output_type": "execute_result"
    }
   ],
   "source": [
    "f=tf.tensordot(X.astype(np.float32),params,axes=1)\n",
    "mapper=MapperComplex(colors=np.array(time).reshape((-1,1)),filters=f.numpy(),resolutions=resolutions, gains=gain, clustering=ag)\n",
    "mapper.fit(X)\n",
    "nt=mapper.get_pyvis()\n",
    "nt.show('sc_ot_initial.html')"
   ]
  },
  {
   "cell_type": "code",
   "execution_count": 17,
   "id": "32c4721c-990b-4032-a86d-9a0ef26def7e",
   "metadata": {},
   "outputs": [
    {
     "name": "stderr",
     "output_type": "stream",
     "text": [
      "100%|█████████████████████████████████████████| 301/301 [52:12<00:00, 10.41s/it]\n"
     ]
    }
   ],
   "source": [
    "losses = []\n",
    "K=10\n",
    "with Parallel(n_jobs=-1) as parallel:\n",
    "    for epoch in tqdm(range(300+1)):\n",
    "\n",
    "        f=tf.tensordot(X.astype(np.float32),params,axes=1)\n",
    "        fn=(f-tf.math.reduce_min(f))/(tf.math.reduce_max(f)-tf.math.reduce_min(f))\n",
    "        scheme=smooth_scheme(fn.numpy(),resolutions,gain,sigma)\n",
    "\n",
    "        upscheme=np.repeat(scheme,K,axis=0)\n",
    "\n",
    "        assignments=bernoulli.rvs(upscheme,random_state=0)\n",
    "\n",
    "        st,clusters=compute_mapper(X,ag,assignments,maximum=5)\n",
    "        \n",
    "        with tf.GradientTape() as tape:\n",
    "            f=tf.tensordot(X.astype(np.float32),params,axes=1)\n",
    "            f_values=tf.repeat(tf.expand_dims(f,axis=0),clusters.shape[0],axis=0)\n",
    "\n",
    "            f_values=tf.repeat(f_values,clusters.shape[2],axis=2)\n",
    "\n",
    "            filtration=tf.math.reduce_sum(f_values*clusters,axis=1)/(np.sum(clusters,axis=1)+1e-10)\n",
    "            #l=[(_LowerStarSimplexTree(st[k],filtration[k],[0],11,False)[0][0]).reshape(-1,2) for k in range(n)]\n",
    "            l=parallel(delayed(filter_extended_st)(list(st[k].get_skeleton(1)),filtration.numpy()[k]) \n",
    "                for k in range(K))\n",
    "            loss=0\n",
    "            \n",
    "            #dgm=tf.concat([tf.gather(filtration[k],l[k]) for k in range(K)],axis=0)\n",
    "            for k in range(K):\n",
    "                dgm=tf.gather(filtration[k],l[k]) \n",
    "                loss=loss-tf.math.reduce_sum(tf.math.abs((dgm[:,1]-dgm[:,0])))/K\n",
    "\n",
    "            regularization = tf.math.square(tf.norm(params)-1)\n",
    "\n",
    "            loss=loss+regularization\n",
    "\n",
    "        gradients = tape.gradient(loss, [params])\n",
    "        \n",
    "        optimizer.apply_gradients(zip(gradients, [params]))\n",
    "\n",
    "\n",
    "        losses.append(loss.numpy())"
   ]
  },
  {
   "cell_type": "code",
   "execution_count": 18,
   "id": "a3418262-52f4-43af-91a4-acc78501b49a",
   "metadata": {},
   "outputs": [
    {
     "data": {
      "image/png": "[encoded data removed]",
      "text/plain": [
       "<Figure size 640x480 with 1 Axes>"
      ]
     },
     "metadata": {},
     "output_type": "display_data"
    }
   ],
   "source": [
    "plt.figure()\n",
    "plt.plot(losses)\n",
    "plt.xlabel('Epochs')\n",
    "plt.ylabel('Loss')\n",
    "plt.show()"
   ]
  },
  {
   "cell_type": "code",
   "execution_count": 19,
   "id": "be3a09bc-d46e-42aa-9047-1a1aa91130a4",
   "metadata": {},
   "outputs": [
    {
     "data": {
      "text/plain": [
       "<tf.Tensor: shape=(), dtype=float32, numpy=59.924488>"
      ]
     },
     "execution_count": 19,
     "metadata": {},
     "output_type": "execute_result"
    }
   ],
   "source": [
    "tf.norm(params)"
   ]
  },
  {
   "cell_type": "code",
   "execution_count": 20,
   "id": "617c15bd-f7f2-4d60-8665-d6ad4e643da4",
   "metadata": {},
   "outputs": [
    {
     "name": "stdout",
     "output_type": "stream",
     "text": [
      "Local cdn resources have problems on chrome/safari when used in jupyter-notebook. \n"
     ]
    },
    {
     "data": {
      "text/html": [
       "\n",
       "        <iframe\n",
       "            width=\"500px\"\n",
       "            height=\"500px\"\n",
       "            src=\"sc_ot_final.html\"\n",
       "            frameborder=\"0\"\n",
       "            allowfullscreen\n",
       "            \n",
       "        ></iframe>\n",
       "        "
      ],
      "text/plain": [
       "<IPython.lib.display.IFrame at 0x172b84100>"
      ]
     },
     "execution_count": 20,
     "metadata": {},
     "output_type": "execute_result"
    }
   ],
   "source": [
    "mapper=MapperComplex(colors=np.array(time).reshape((-1,1)),filters=f.numpy(),resolutions=resolutions, gains=gain, clustering=ag)\n",
    "mapper.fit(X)\n",
    "nt=mapper.get_pyvis()\n",
    "nt.show('sc_ot_final.html')"
   ]
  },
  {
   "cell_type": "code",
   "execution_count": 21,
   "id": "ad7a2e3f-f4cf-488a-b200-f90ee4dc0246",
   "metadata": {},
   "outputs": [
    {
     "name": "stdout",
     "output_type": "stream",
     "text": [
      "Local cdn resources have problems on chrome/safari when used in jupyter-notebook. \n"
     ]
    },
    {
     "data": {
      "text/html": [
       "\n",
       "        <iframe\n",
       "            width=\"500px\"\n",
       "            height=\"500px\"\n",
       "            src=\"sc_ot_dox.html\"\n",
       "            frameborder=\"0\"\n",
       "            allowfullscreen\n",
       "            \n",
       "        ></iframe>\n",
       "        "
      ],
      "text/plain": [
       "<IPython.lib.display.IFrame at 0x2945d90a0>"
      ]
     },
     "execution_count": 21,
     "metadata": {},
     "output_type": "execute_result"
    }
   ],
   "source": [
    "mapper=MapperComplex(colors=(labels=='Dox').astype(np.int32).reshape(-1,1),filters=f.numpy(),resolutions=resolutions, gains=gain, clustering=ag)\n",
    "mapper.fit(X)\n",
    "nt=mapper.get_pyvis(cmap=cm.hot)\n",
    "nt.show('sc_ot_dox.html')"
   ]
  },
  {
   "cell_type": "code",
   "execution_count": 22,
   "id": "6453cdb9-e26d-4b86-b560-e2458058d38c",
   "metadata": {},
   "outputs": [
    {
     "name": "stdout",
     "output_type": "stream",
     "text": [
      "Local cdn resources have problems on chrome/safari when used in jupyter-notebook. \n"
     ]
    },
    {
     "data": {
      "text/html": [
       "\n",
       "        <iframe\n",
       "            width=\"500px\"\n",
       "            height=\"500px\"\n",
       "            src=\"sc_ot_2i.html\"\n",
       "            frameborder=\"0\"\n",
       "            allowfullscreen\n",
       "            \n",
       "        ></iframe>\n",
       "        "
      ],
      "text/plain": [
       "<IPython.lib.display.IFrame at 0x29b6c8520>"
      ]
     },
     "execution_count": 22,
     "metadata": {},
     "output_type": "execute_result"
    }
   ],
   "source": [
    "mapper=MapperComplex(colors=(labels=='2i').astype(np.int32).reshape(-1,1),filters=f.numpy(),resolutions=resolutions, gains=gain, clustering=ag)\n",
    "mapper.fit(X)\n",
    "nt=mapper.get_pyvis(cmap=cm.hot)\n",
    "nt.show('sc_ot_2i.html')"
   ]
  },
  {
   "cell_type": "code",
   "execution_count": 23,
   "id": "e172ab3a-eb71-4743-be79-0cc34ffc4559",
   "metadata": {},
   "outputs": [
    {
     "name": "stdout",
     "output_type": "stream",
     "text": [
      "Local cdn resources have problems on chrome/safari when used in jupyter-notebook. \n"
     ]
    },
    {
     "data": {
      "text/html": [
       "\n",
       "        <iframe\n",
       "            width=\"500px\"\n",
       "            height=\"500px\"\n",
       "            src=\"sc_ot_serum.html\"\n",
       "            frameborder=\"0\"\n",
       "            allowfullscreen\n",
       "            \n",
       "        ></iframe>\n",
       "        "
      ],
      "text/plain": [
       "<IPython.lib.display.IFrame at 0x111b63880>"
      ]
     },
     "execution_count": 23,
     "metadata": {},
     "output_type": "execute_result"
    }
   ],
   "source": [
    "mapper=MapperComplex(colors=(labels=='serum').astype(np.int32).reshape(-1,1),filters=f.numpy(),resolutions=resolutions, gains=gain, clustering=ag)\n",
    "mapper.fit(X)\n",
    "nt=mapper.get_pyvis(cmap=cm.hot)\n",
    "nt.show('sc_ot_serum.html')"
   ]
  },
  {
   "cell_type": "code",
   "execution_count": 28,
   "id": "83768f39-5b9a-4e2a-84ef-ee23c6cce418",
   "metadata": {},
   "outputs": [],
   "source": [
    "from sklearn.preprocessing import OneHotEncoder\n",
    "ohe=OneHotEncoder()\n",
    "lab=ohe.fit_transform(labels.reshape(-1, 1))"
   ]
  },
  {
   "cell_type": "code",
   "execution_count": 35,
   "id": "316c6044-3e18-4b48-9cb9-cfed257108e7",
   "metadata": {},
   "outputs": [
    {
     "name": "stdout",
     "output_type": "stream",
     "text": [
      "Local cdn resources have problems on chrome/safari when used in jupyter-notebook. \n"
     ]
    },
    {
     "data": {
      "text/html": [
       "\n",
       "        <iframe\n",
       "            width=\"500px\"\n",
       "            height=\"500px\"\n",
       "            src=\"phases.html\"\n",
       "            frameborder=\"0\"\n",
       "            allowfullscreen\n",
       "            \n",
       "        ></iframe>\n",
       "        "
      ],
      "text/plain": [
       "<IPython.lib.display.IFrame at 0x498b7a040>"
      ]
     },
     "execution_count": 35,
     "metadata": {},
     "output_type": "execute_result"
    }
   ],
   "source": [
    "\n",
    "\n",
    "channels=np.stack([np.mean(lab.toarray()[v['indices'],:],axis=0) for v in mapper.node_info.values()])\n",
    "\n",
    "#norm0 = mpl.colors.Normalize(vmin=np.min(channels[:,0]), vmax=np.max(channels[:,0]))\n",
    "#m0 = cm.ScalarMappable(norm=norm0,  cmap=cm.Blues)\n",
    "\n",
    "#norm1 = mpl.colors.Normalize(vmin=np.min(channels[:,1]), vmax=np.max(channels[:,1]))\n",
    "#m1 = cm.ScalarMappable(norm=norm1,  cmap=cm.Reds)\n",
    "\n",
    "#norm2 = mpl.colors.Normalize(vmin=np.min(channels[:,2]), vmax=np.max(channels[:,2]))\n",
    "#m2 = cm.ScalarMappable(norm=norm2,  cmap=cm.Greens)\n",
    "\n",
    "def to_hex(color):\n",
    "    return '#'+''.join([\"%02x\" % e for e in color])\n",
    "\n",
    "nt = Network('500px', '500px',notebook=True, directed=False)\n",
    "st = mapper.simplex_tree\n",
    "\n",
    "#color=(m0.to_rgba(channels[:,0],bytes=True)[:,:3]+m1.to_rgba(channels[:,1],bytes=True)[:,:3]+\n",
    "#       m2.to_rgba(channels[:,2],bytes=True)[:,:3])/3\n",
    "\n",
    "color=channels*255\n",
    "\n",
    "for (splx,_) in st.get_skeleton(0):\n",
    "    nt.add_node(splx[0],color=to_hex(color[splx[0],:].astype(int)))\n",
    "for (splx,_) in st.get_skeleton(1):\n",
    "    if len(splx) == 2:\n",
    "        nt.add_edge(splx[1], splx[0])\n",
    "        \n",
    "nt.show('phases.html')"
   ]
  }
 ],
 "metadata": {
  "kernelspec": {
   "display_name": "Python 3 (ipykernel)",
   "language": "python",
   "name": "python3"
  },
  "language_info": {
   "codemirror_mode": {
    "name": "ipython",
    "version": 3
   },
   "file_extension": ".py",
   "mimetype": "text/x-python",
   "name": "python",
   "nbconvert_exporter": "python",
   "pygments_lexer": "ipython3",
   "version": "3.9.13"
  }
 },
 "nbformat": 4,
 "nbformat_minor": 5
}
